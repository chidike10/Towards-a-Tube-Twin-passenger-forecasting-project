{
 "cells": [
  {
   "cell_type": "markdown",
   "metadata": {},
   "source": [
    "<div style=\"text-align: right\"> Part 1: PROJECT PRELIMINARIES </div>"
   ]
  },
  {
   "cell_type": "markdown",
   "metadata": {},
   "source": [
    "# **TUBE TWIN - THE LONDON UNDERGROUND FORECASTING SYSTEM**"
   ]
  },
  {
   "cell_type": "markdown",
   "metadata": {},
   "source": [
    "<img src=\"https://www.ft.com/__origami/service/image/v2/images/raw/https%3A%2F%2Fd1e00ek4ebabms.cloudfront.net%2Fproduction%2F2f90cf07-9f8c-4437-ad9b-818989cb2fd2.jpg?dpr=2&fit=scale-down&quality=medium&source=next&width=700\" alt=\"image info\" />"
   ]
  },
  {
   "cell_type": "markdown",
   "metadata": {},
   "source": [
    "## **PROJECT SUMMARY**"
   ]
  },
  {
   "cell_type": "markdown",
   "metadata": {},
   "source": [
    "The London Underground (aka “The Tube”) is a network of train stations which connects the city. Via an open data API, Transport for London (TfL) publishes data showing in fifteen minute increments the number of people entering and exiting every station. Understanding the behaviour of this transport network presents many similar challenges to the ones we face in understanding water and waste distribution\n",
    "networks. <br>"
   ]
  },
  {
   "cell_type": "markdown",
   "metadata": {},
   "source": [
    "### OBJECTIVES\n",
    "The project should be able to cover the following: <br>\n",
    "- forecast passenger counts on train lines and stations throughout the year\n",
    "- effects of special events (eg. football games, holidays, concerts) on the network\n",
    "- relationship like between passenger counts at different stations\n",
    "- patterns in usage of the Tube prior and post COVID pandemic, focusing on aggregation, popularity of certain lines, and relationship between counts at different stations\n",
    "- effects of new lines on existing lines, case in point the Elizabeth Line\n",
    "-  long-term trends in passenger loads across the different lines and stations\n",
    "- identification of optimal location where a line can be added\n",
    "- simulate the network and uncover plausible risks to the network"
   ]
  },
  {
   "cell_type": "markdown",
   "metadata": {},
   "source": [
    "### GOALS\n",
    "Expected outputs of the project are: <br>\n",
    "- A graph representation of the network\n",
    "- A passenger count forecast at each station (entry and exit), in 15 minutes increments, based on time of day, and counts at other stations\n",
    "- A study of the effect of significant events (holidays, football games, etc) on traffic\n",
    "- Dashboard showing key insights to railway technicians and commuters\n",
    "- Simulation"
   ]
  },
  {
   "cell_type": "markdown",
   "metadata": {},
   "source": [
    "## **PROJECT DATA FROM TFL API**"
   ]
  },
  {
   "cell_type": "markdown",
   "metadata": {},
   "source": [
    "Data that will be used in this project is accessed from the TfL API, at https://api-portal.tfl.gov.uk/ <br>"
   ]
  },
  {
   "cell_type": "markdown",
   "metadata": {},
   "source": [
    "The following data types were identified as potentially being necessary:<br>\n",
    "- Station data\n",
    "- Passenger density\n",
    "- Air quality\n",
    "- "
   ]
  },
  {
   "cell_type": "markdown",
   "metadata": {},
   "source": [
    "Resources for extraction of the data using the API:<br>\n",
    "- Request library in python\n",
    "- tflunifiedapi library in python\n"
   ]
  },
  {
   "cell_type": "markdown",
   "metadata": {},
   "source": [
    "### SCRIPT TO EXTRACT DATA FROM TFL API"
   ]
  },
  {
   "cell_type": "code",
   "execution_count": 1,
   "metadata": {},
   "outputs": [
    {
     "name": "stdout",
     "output_type": "stream",
     "text": [
      "Collecting tflunifiedapi\n",
      "  Downloading tflunifiedapi-0.2.1.tar.gz (9.3 kB)\n",
      "Collecting msrest\n",
      "  Downloading msrest-0.7.1-py3-none-any.whl (85 kB)\n",
      "Collecting azure-core>=1.24.0\n",
      "  Downloading azure_core-1.25.1-py3-none-any.whl (178 kB)\n",
      "Collecting isodate>=0.6.0\n",
      "  Downloading isodate-0.6.1-py2.py3-none-any.whl (41 kB)\n",
      "Collecting requests-oauthlib>=0.5.0\n",
      "  Downloading requests_oauthlib-1.3.1-py2.py3-none-any.whl (23 kB)\n",
      "Requirement already satisfied: certifi>=2017.4.17 in c:\\anaconda\\lib\\site-packages (from msrest->tflunifiedapi) (2021.10.8)\n",
      "Requirement already satisfied: requests~=2.16 in c:\\anaconda\\lib\\site-packages (from msrest->tflunifiedapi) (2.26.0)\n",
      "Requirement already satisfied: six>=1.11.0 in c:\\anaconda\\lib\\site-packages (from azure-core>=1.24.0->msrest->tflunifiedapi) (1.16.0)\n",
      "Collecting typing-extensions>=4.0.1\n",
      "  Using cached typing_extensions-4.3.0-py3-none-any.whl (25 kB)\n",
      "Requirement already satisfied: urllib3<1.27,>=1.21.1 in c:\\anaconda\\lib\\site-packages (from requests~=2.16->msrest->tflunifiedapi) (1.26.7)\n",
      "Requirement already satisfied: idna<4,>=2.5 in c:\\anaconda\\lib\\site-packages (from requests~=2.16->msrest->tflunifiedapi) (3.2)\n",
      "Requirement already satisfied: charset-normalizer~=2.0.0 in c:\\anaconda\\lib\\site-packages (from requests~=2.16->msrest->tflunifiedapi) (2.0.4)\n",
      "Collecting oauthlib>=3.0.0\n",
      "  Downloading oauthlib-3.2.1-py3-none-any.whl (151 kB)\n",
      "Building wheels for collected packages: tflunifiedapi\n",
      "  Building wheel for tflunifiedapi (setup.py): started\n",
      "  Building wheel for tflunifiedapi (setup.py): finished with status 'done'\n",
      "  Created wheel for tflunifiedapi: filename=tflunifiedapi-0.2.1-py3-none-any.whl size=16729 sha256=2082a7c0f68b6eaa85dd06d109bdf91552e908af767c94d454a95fe7f4faefd2\n",
      "  Stored in directory: c:\\users\\gti tech\\appdata\\local\\pip\\cache\\wheels\\56\\48\\a0\\5181c7176fd28ad6a6fb11915217fe81e08777cf0bcd361eba\n",
      "Successfully built tflunifiedapi\n",
      "Installing collected packages: typing-extensions, oauthlib, requests-oauthlib, isodate, azure-core, msrest, tflunifiedapi\n",
      "  Attempting uninstall: typing-extensions\n",
      "    Found existing installation: typing-extensions 3.10.0.2\n",
      "    Uninstalling typing-extensions-3.10.0.2:\n",
      "      Successfully uninstalled typing-extensions-3.10.0.2\n",
      "Successfully installed azure-core-1.25.1 isodate-0.6.1 msrest-0.7.1 oauthlib-3.2.1 requests-oauthlib-1.3.1 tflunifiedapi-0.2.1 typing-extensions-4.3.0\n",
      "Requirement already satisfied: requests in c:\\anaconda\\lib\\site-packages (2.26.0)\n",
      "Requirement already satisfied: idna<4,>=2.5 in c:\\anaconda\\lib\\site-packages (from requests) (3.2)\n",
      "Requirement already satisfied: urllib3<1.27,>=1.21.1 in c:\\anaconda\\lib\\site-packages (from requests) (1.26.7)\n",
      "Requirement already satisfied: certifi>=2017.4.17 in c:\\anaconda\\lib\\site-packages (from requests) (2021.10.8)\n",
      "Requirement already satisfied: charset-normalizer~=2.0.0 in c:\\anaconda\\lib\\site-packages (from requests) (2.0.4)\n"
     ]
    }
   ],
   "source": [
    "!pip install tflunifiedapi\n",
    "!pip install requests"
   ]
  },
  {
   "cell_type": "code",
   "execution_count": 2,
   "metadata": {},
   "outputs": [],
   "source": [
    "from tfl.client import Client\n",
    "from tfl.api_token import ApiToken\n",
    "import requests\n",
    "from requests.auth import HTTPBasicAuth\n",
    "from urllib.parse import urlencode\n",
    "import logging\n",
    "import csv"
   ]
  },
  {
   "cell_type": "markdown",
   "metadata": {},
   "source": [
    "#### *RETRIEVING DATA FROM TfL API FOR LONDON UNDERGROUND*"
   ]
  },
  {
   "cell_type": "code",
   "execution_count": 3,
   "metadata": {},
   "outputs": [],
   "source": [
    "# sample statement\n",
    "sample = \"https://api.tfl.gov.uk/crowding/{Naptan}/Live?app_key={ApplicationKey 15}\"\n",
    "# example link\n",
    "url = \"https://api.tfl.gov.uk/crowding/940GZZLUBST\"\n"
   ]
  },
  {
   "cell_type": "code",
   "execution_count": 4,
   "metadata": {},
   "outputs": [],
   "source": [
    "app_id = 'Twin Tube'\n",
    "app_key = '3d6ecccce7bc4221b76171eb5e1564d0'\n",
    "api_token = {\"app_id\": app_id, \"app_key\": app_key}\n",
    "headers = {\"Accept\": \"application/json\"}\n",
    "r = requests.get(url, api_token, headers=headers)\n",
    "crowding = r.json()\n"
   ]
  },
  {
   "cell_type": "markdown",
   "metadata": {},
   "source": [
    "## **DATA WRANGLING**"
   ]
  },
  {
   "cell_type": "markdown",
   "metadata": {},
   "source": [
    "Data wrangling is the process of removing errors and combining complex data sets to make them more accessible and easier to analyze."
   ]
  },
  {
   "cell_type": "markdown",
   "metadata": {},
   "source": [
    "Historical data is available for the following years, for a 'typical autumn day' at 15 minutes interval for 24 hr period:\n",
    "- 2017\n",
    "- 2018\n",
    "- 2019\n",
    "- 2020\n",
    "- 2021\n",
    "\n",
    "The data is for a typical autumn day, and is segmented into:\n",
    "- MTT or MTF (Monday to Thursday or Monday to Friday (ony in 2017))\n",
    "- FRI\n",
    "- SAT\n",
    "- SUN\n",
    "\n",
    "The data was prepared for use in notebook using Excel program as follows:\n",
    "1. The row containing 15 minute time periods was retained to be the header of the dataframe columns and all rows above this row were deleted\n",
    "2. No other action was carried out"
   ]
  },
  {
   "cell_type": "markdown",
   "metadata": {},
   "source": [
    "### DATA OVERVIEW"
   ]
  },
  {
   "cell_type": "code",
   "execution_count": 5,
   "metadata": {},
   "outputs": [],
   "source": [
    "import pandas as pd\n",
    "import numpy as np"
   ]
  },
  {
   "cell_type": "code",
   "execution_count": 6,
   "metadata": {},
   "outputs": [],
   "source": [
    "def getListOfFiles(dirName):\n",
    "    '''\n",
    "        For the given path, get the List of all files in the directory tree\n",
    "        dirName: directory of folder containing files\n",
    "        output: a list of file paths for each of the files \n",
    "    '''\n",
    "    # create a list of file and sub directories \n",
    "    # names in the given directory \n",
    "    listOfFile = os.listdir(dirName)\n",
    "    allFiles = list()\n",
    "    # Iterate over all the entries\n",
    "    for entry in listOfFile:\n",
    "        # Create full path\n",
    "        fullPath = os.path.join(dirName, entry)\n",
    "        # If entry is a directory then get the list of files in this directory \n",
    "        if os.path.isdir(fullPath):\n",
    "            allFiles = allFiles + getListOfFiles(fullPath)\n",
    "        else:\n",
    "            allFiles.append(fullPath)\n",
    "                \n",
    "    return allFiles"
   ]
  },
  {
   "cell_type": "code",
   "execution_count": 8,
   "metadata": {},
   "outputs": [
    {
     "ename": "FileNotFoundError",
     "evalue": "[WinError 3] The system cannot find the path specified: 'Resources/Data/STATION_COUNTS/'",
     "output_type": "error",
     "traceback": [
      "\u001b[1;31m---------------------------------------------------------------------------\u001b[0m",
      "\u001b[1;31mFileNotFoundError\u001b[0m                         Traceback (most recent call last)",
      "\u001b[1;32mC:\\Users\\GTITEC~1\\AppData\\Local\\Temp/ipykernel_13244/3367344638.py\u001b[0m in \u001b[0;36m<module>\u001b[1;34m\u001b[0m\n\u001b[0;32m      1\u001b[0m \u001b[1;32mimport\u001b[0m \u001b[0mos\u001b[0m\u001b[1;33m\u001b[0m\u001b[1;33m\u001b[0m\u001b[0m\n\u001b[0;32m      2\u001b[0m \u001b[1;31m# saving file paths to a list variable\u001b[0m\u001b[1;33m\u001b[0m\u001b[1;33m\u001b[0m\u001b[0m\n\u001b[1;32m----> 3\u001b[1;33m \u001b[0mdirList\u001b[0m \u001b[1;33m=\u001b[0m \u001b[0mgetListOfFiles\u001b[0m\u001b[1;33m(\u001b[0m\u001b[1;34m\"Resources/Data/STATION_COUNTS/\"\u001b[0m\u001b[1;33m)\u001b[0m\u001b[1;33m\u001b[0m\u001b[1;33m\u001b[0m\u001b[0m\n\u001b[0m",
      "\u001b[1;32mC:\\Users\\GTITEC~1\\AppData\\Local\\Temp/ipykernel_13244/3616475435.py\u001b[0m in \u001b[0;36mgetListOfFiles\u001b[1;34m(dirName)\u001b[0m\n\u001b[0;32m      7\u001b[0m     \u001b[1;31m# create a list of file and sub directories\u001b[0m\u001b[1;33m\u001b[0m\u001b[1;33m\u001b[0m\u001b[0m\n\u001b[0;32m      8\u001b[0m     \u001b[1;31m# names in the given directory\u001b[0m\u001b[1;33m\u001b[0m\u001b[1;33m\u001b[0m\u001b[0m\n\u001b[1;32m----> 9\u001b[1;33m     \u001b[0mlistOfFile\u001b[0m \u001b[1;33m=\u001b[0m \u001b[0mos\u001b[0m\u001b[1;33m.\u001b[0m\u001b[0mlistdir\u001b[0m\u001b[1;33m(\u001b[0m\u001b[0mdirName\u001b[0m\u001b[1;33m)\u001b[0m\u001b[1;33m\u001b[0m\u001b[1;33m\u001b[0m\u001b[0m\n\u001b[0m\u001b[0;32m     10\u001b[0m     \u001b[0mallFiles\u001b[0m \u001b[1;33m=\u001b[0m \u001b[0mlist\u001b[0m\u001b[1;33m(\u001b[0m\u001b[1;33m)\u001b[0m\u001b[1;33m\u001b[0m\u001b[1;33m\u001b[0m\u001b[0m\n\u001b[0;32m     11\u001b[0m     \u001b[1;31m# Iterate over all the entries\u001b[0m\u001b[1;33m\u001b[0m\u001b[1;33m\u001b[0m\u001b[0m\n",
      "\u001b[1;31mFileNotFoundError\u001b[0m: [WinError 3] The system cannot find the path specified: 'Resources/Data/STATION_COUNTS/'"
     ]
    }
   ],
   "source": [
    "import os\n",
    "# saving file paths to a list variable\n",
    "dirList = getListOfFiles(\"Resources/Data/STATION_COUNTS/\")"
   ]
  },
  {
   "cell_type": "code",
   "execution_count": 44,
   "metadata": {},
   "outputs": [
    {
     "data": {
      "text/plain": [
       "['Resources/Data/STATION_COUNTS/2017.csv',\n",
       " 'Resources/Data/STATION_COUNTS/2017_summary.csv',\n",
       " 'Resources/Data/STATION_COUNTS/2017_yearlabels.csv',\n",
       " 'Resources/Data/STATION_COUNTS/2018.csv',\n",
       " 'Resources/Data/STATION_COUNTS/2018_summary.csv',\n",
       " 'Resources/Data/STATION_COUNTS/2019.csv',\n",
       " 'Resources/Data/STATION_COUNTS/2019_summary.csv',\n",
       " 'Resources/Data/STATION_COUNTS/2020.csv',\n",
       " 'Resources/Data/STATION_COUNTS/2020_summary.csv',\n",
       " 'Resources/Data/STATION_COUNTS/2021.csv',\n",
       " 'Resources/Data/STATION_COUNTS/2021_summary.csv',\n",
       " 'Resources/Data/STATION_COUNTS/sample.csv']"
      ]
     },
     "execution_count": 44,
     "metadata": {},
     "output_type": "execute_result"
    }
   ],
   "source": [
    "dirList"
   ]
  },
  {
   "cell_type": "code",
   "execution_count": 45,
   "metadata": {},
   "outputs": [],
   "source": [
    "# reading the yearly passenger count data into a dataframe variable\n",
    "\n",
    "df_17 = pd.read_csv(\"Resources/Data/STATION_COUNTS/2017.csv\")\n",
    "df_18 = pd.read_csv(\"Resources/Data/STATION_COUNTS/2018.csv\")\n",
    "df_19 = pd.read_csv(\"Resources/Data/STATION_COUNTS/2019.csv\")\n",
    "df_20 = pd.read_csv(\"Resources/Data/STATION_COUNTS/2020.csv\")\n",
    "df_21 = pd.read_csv(\"Resources/Data/STATION_COUNTS/2021.csv\")"
   ]
  },
  {
   "cell_type": "code",
   "execution_count": 46,
   "metadata": {},
   "outputs": [
    {
     "data": {
      "text/html": [
       "<div>\n",
       "<style scoped>\n",
       "    .dataframe tbody tr th:only-of-type {\n",
       "        vertical-align: middle;\n",
       "    }\n",
       "\n",
       "    .dataframe tbody tr th {\n",
       "        vertical-align: top;\n",
       "    }\n",
       "\n",
       "    .dataframe thead th {\n",
       "        text-align: right;\n",
       "    }\n",
       "</style>\n",
       "<table border=\"1\" class=\"dataframe\">\n",
       "  <thead>\n",
       "    <tr style=\"text-align: right;\">\n",
       "      <th></th>\n",
       "      <th>Mode</th>\n",
       "      <th>NLC</th>\n",
       "      <th>ASC</th>\n",
       "      <th>Station</th>\n",
       "      <th>Coverage</th>\n",
       "      <th>year</th>\n",
       "      <th>day</th>\n",
       "      <th>dir</th>\n",
       "      <th>0500-0515</th>\n",
       "      <th>0515-0530</th>\n",
       "      <th>...</th>\n",
       "      <th>0230-0245</th>\n",
       "      <th>0245-0300</th>\n",
       "      <th>0300-0315</th>\n",
       "      <th>0315-0330</th>\n",
       "      <th>0330-0345</th>\n",
       "      <th>0345-0400</th>\n",
       "      <th>0400-0415</th>\n",
       "      <th>0415-0430</th>\n",
       "      <th>0430-0445</th>\n",
       "      <th>0445-0500</th>\n",
       "    </tr>\n",
       "  </thead>\n",
       "  <tbody>\n",
       "    <tr>\n",
       "      <th>0</th>\n",
       "      <td>LU</td>\n",
       "      <td>500</td>\n",
       "      <td>ACTu</td>\n",
       "      <td>Acton Town</td>\n",
       "      <td>Station entry / exit</td>\n",
       "      <td>2017</td>\n",
       "      <td>MTF</td>\n",
       "      <td>IN</td>\n",
       "      <td>22</td>\n",
       "      <td>27</td>\n",
       "      <td>...</td>\n",
       "      <td>0</td>\n",
       "      <td>0</td>\n",
       "      <td>0</td>\n",
       "      <td>0</td>\n",
       "      <td>0</td>\n",
       "      <td>0</td>\n",
       "      <td>0</td>\n",
       "      <td>0</td>\n",
       "      <td>0</td>\n",
       "      <td>0</td>\n",
       "    </tr>\n",
       "  </tbody>\n",
       "</table>\n",
       "<p>1 rows × 104 columns</p>\n",
       "</div>"
      ],
      "text/plain": [
       "  Mode  NLC   ASC     Station              Coverage  year  day  dir  \\\n",
       "0   LU  500  ACTu  Acton Town  Station entry / exit  2017  MTF   IN   \n",
       "\n",
       "   0500-0515  0515-0530  ...  0230-0245  0245-0300  0300-0315  0315-0330  \\\n",
       "0         22         27  ...          0          0          0          0   \n",
       "\n",
       "   0330-0345  0345-0400  0400-0415  0415-0430  0430-0445  0445-0500  \n",
       "0          0          0          0          0          0          0  \n",
       "\n",
       "[1 rows x 104 columns]"
      ]
     },
     "execution_count": 46,
     "metadata": {},
     "output_type": "execute_result"
    }
   ],
   "source": [
    "df_17.head(1)"
   ]
  },
  {
   "cell_type": "code",
   "execution_count": 47,
   "metadata": {},
   "outputs": [
    {
     "data": {
      "text/html": [
       "<div>\n",
       "<style scoped>\n",
       "    .dataframe tbody tr th:only-of-type {\n",
       "        vertical-align: middle;\n",
       "    }\n",
       "\n",
       "    .dataframe tbody tr th {\n",
       "        vertical-align: top;\n",
       "    }\n",
       "\n",
       "    .dataframe thead th {\n",
       "        text-align: right;\n",
       "    }\n",
       "</style>\n",
       "<table border=\"1\" class=\"dataframe\">\n",
       "  <thead>\n",
       "    <tr style=\"text-align: right;\">\n",
       "      <th></th>\n",
       "      <th>Mode</th>\n",
       "      <th>NLC</th>\n",
       "      <th>ASC</th>\n",
       "      <th>Station</th>\n",
       "      <th>Coverage</th>\n",
       "      <th>year</th>\n",
       "      <th>day</th>\n",
       "      <th>dir</th>\n",
       "      <th>0500-0515</th>\n",
       "      <th>0515-0530</th>\n",
       "      <th>...</th>\n",
       "      <th>0230-0245</th>\n",
       "      <th>0245-0300</th>\n",
       "      <th>0300-0315</th>\n",
       "      <th>0315-0330</th>\n",
       "      <th>0330-0345</th>\n",
       "      <th>0345-0400</th>\n",
       "      <th>0400-0415</th>\n",
       "      <th>0415-0430</th>\n",
       "      <th>0430-0445</th>\n",
       "      <th>0445-0500</th>\n",
       "    </tr>\n",
       "  </thead>\n",
       "  <tbody>\n",
       "    <tr>\n",
       "      <th>0</th>\n",
       "      <td>LU</td>\n",
       "      <td>500</td>\n",
       "      <td>ACT</td>\n",
       "      <td>Acton Town</td>\n",
       "      <td>Station entry / exit</td>\n",
       "      <td>2018</td>\n",
       "      <td>MTT</td>\n",
       "      <td>IN</td>\n",
       "      <td>26</td>\n",
       "      <td>32</td>\n",
       "      <td>...</td>\n",
       "      <td>0</td>\n",
       "      <td>0</td>\n",
       "      <td>0</td>\n",
       "      <td>0</td>\n",
       "      <td>0</td>\n",
       "      <td>0</td>\n",
       "      <td>0</td>\n",
       "      <td>0</td>\n",
       "      <td>3</td>\n",
       "      <td>18</td>\n",
       "    </tr>\n",
       "  </tbody>\n",
       "</table>\n",
       "<p>1 rows × 104 columns</p>\n",
       "</div>"
      ],
      "text/plain": [
       "  Mode  NLC  ASC     Station              Coverage  year  day  dir  0500-0515  \\\n",
       "0   LU  500  ACT  Acton Town  Station entry / exit  2018  MTT   IN         26   \n",
       "\n",
       "   0515-0530  ...  0230-0245  0245-0300  0300-0315  0315-0330  0330-0345  \\\n",
       "0         32  ...          0          0          0          0          0   \n",
       "\n",
       "   0345-0400  0400-0415  0415-0430  0430-0445  0445-0500  \n",
       "0          0          0          0          3         18  \n",
       "\n",
       "[1 rows x 104 columns]"
      ]
     },
     "execution_count": 47,
     "metadata": {},
     "output_type": "execute_result"
    }
   ],
   "source": [
    "df_18.head(1)"
   ]
  },
  {
   "cell_type": "code",
   "execution_count": 48,
   "metadata": {},
   "outputs": [
    {
     "data": {
      "text/html": [
       "<div>\n",
       "<style scoped>\n",
       "    .dataframe tbody tr th:only-of-type {\n",
       "        vertical-align: middle;\n",
       "    }\n",
       "\n",
       "    .dataframe tbody tr th {\n",
       "        vertical-align: top;\n",
       "    }\n",
       "\n",
       "    .dataframe thead th {\n",
       "        text-align: right;\n",
       "    }\n",
       "</style>\n",
       "<table border=\"1\" class=\"dataframe\">\n",
       "  <thead>\n",
       "    <tr style=\"text-align: right;\">\n",
       "      <th></th>\n",
       "      <th>Mode</th>\n",
       "      <th>NLC</th>\n",
       "      <th>ASC</th>\n",
       "      <th>Station</th>\n",
       "      <th>Coverage</th>\n",
       "      <th>year</th>\n",
       "      <th>day</th>\n",
       "      <th>dir</th>\n",
       "      <th>0500-0515</th>\n",
       "      <th>0515-0530</th>\n",
       "      <th>...</th>\n",
       "      <th>0230-0245</th>\n",
       "      <th>0245-0300</th>\n",
       "      <th>0300-0315</th>\n",
       "      <th>0315-0330</th>\n",
       "      <th>0330-0345</th>\n",
       "      <th>0345-0400</th>\n",
       "      <th>0400-0415</th>\n",
       "      <th>0415-0430</th>\n",
       "      <th>0430-0445</th>\n",
       "      <th>0445-0500</th>\n",
       "    </tr>\n",
       "  </thead>\n",
       "  <tbody>\n",
       "    <tr>\n",
       "      <th>0</th>\n",
       "      <td>LU</td>\n",
       "      <td>500</td>\n",
       "      <td>ACTu</td>\n",
       "      <td>Acton Town</td>\n",
       "      <td>Station entry / exit</td>\n",
       "      <td>2019</td>\n",
       "      <td>MTT</td>\n",
       "      <td>IN</td>\n",
       "      <td>21</td>\n",
       "      <td>36</td>\n",
       "      <td>...</td>\n",
       "      <td>0</td>\n",
       "      <td>0</td>\n",
       "      <td>0</td>\n",
       "      <td>0</td>\n",
       "      <td>0</td>\n",
       "      <td>0</td>\n",
       "      <td>0</td>\n",
       "      <td>0</td>\n",
       "      <td>0</td>\n",
       "      <td>0</td>\n",
       "    </tr>\n",
       "  </tbody>\n",
       "</table>\n",
       "<p>1 rows × 104 columns</p>\n",
       "</div>"
      ],
      "text/plain": [
       "  Mode  NLC   ASC     Station              Coverage  year  day  dir  \\\n",
       "0   LU  500  ACTu  Acton Town  Station entry / exit  2019  MTT   IN   \n",
       "\n",
       "   0500-0515  0515-0530  ...  0230-0245  0245-0300  0300-0315  0315-0330  \\\n",
       "0         21         36  ...          0          0          0          0   \n",
       "\n",
       "   0330-0345  0345-0400  0400-0415  0415-0430  0430-0445  0445-0500  \n",
       "0          0          0          0          0          0          0  \n",
       "\n",
       "[1 rows x 104 columns]"
      ]
     },
     "execution_count": 48,
     "metadata": {},
     "output_type": "execute_result"
    }
   ],
   "source": [
    "df_19.head(1)"
   ]
  },
  {
   "cell_type": "code",
   "execution_count": 49,
   "metadata": {},
   "outputs": [
    {
     "data": {
      "text/html": [
       "<div>\n",
       "<style scoped>\n",
       "    .dataframe tbody tr th:only-of-type {\n",
       "        vertical-align: middle;\n",
       "    }\n",
       "\n",
       "    .dataframe tbody tr th {\n",
       "        vertical-align: top;\n",
       "    }\n",
       "\n",
       "    .dataframe thead th {\n",
       "        text-align: right;\n",
       "    }\n",
       "</style>\n",
       "<table border=\"1\" class=\"dataframe\">\n",
       "  <thead>\n",
       "    <tr style=\"text-align: right;\">\n",
       "      <th></th>\n",
       "      <th>Mode</th>\n",
       "      <th>NLC</th>\n",
       "      <th>ASC</th>\n",
       "      <th>Station</th>\n",
       "      <th>Coverage</th>\n",
       "      <th>year</th>\n",
       "      <th>day</th>\n",
       "      <th>dir</th>\n",
       "      <th>0500-0515</th>\n",
       "      <th>0515-0530</th>\n",
       "      <th>...</th>\n",
       "      <th>0230-0245</th>\n",
       "      <th>0245-0300</th>\n",
       "      <th>0300-0315</th>\n",
       "      <th>0315-0330</th>\n",
       "      <th>0330-0345</th>\n",
       "      <th>0345-0400</th>\n",
       "      <th>0400-0415</th>\n",
       "      <th>0415-0430</th>\n",
       "      <th>0430-0445</th>\n",
       "      <th>0445-0500</th>\n",
       "    </tr>\n",
       "  </thead>\n",
       "  <tbody>\n",
       "    <tr>\n",
       "      <th>0</th>\n",
       "      <td>LU</td>\n",
       "      <td>500</td>\n",
       "      <td>ACTu</td>\n",
       "      <td>Acton Town</td>\n",
       "      <td>Station entry / exit</td>\n",
       "      <td>2020</td>\n",
       "      <td>MTT</td>\n",
       "      <td>IN</td>\n",
       "      <td>9</td>\n",
       "      <td>13</td>\n",
       "      <td>...</td>\n",
       "      <td>0</td>\n",
       "      <td>0</td>\n",
       "      <td>0</td>\n",
       "      <td>0</td>\n",
       "      <td>0</td>\n",
       "      <td>0</td>\n",
       "      <td>0</td>\n",
       "      <td>0</td>\n",
       "      <td>1</td>\n",
       "      <td>15</td>\n",
       "    </tr>\n",
       "  </tbody>\n",
       "</table>\n",
       "<p>1 rows × 104 columns</p>\n",
       "</div>"
      ],
      "text/plain": [
       "  Mode  NLC   ASC     Station              Coverage  year  day  dir  \\\n",
       "0   LU  500  ACTu  Acton Town  Station entry / exit  2020  MTT   IN   \n",
       "\n",
       "   0500-0515  0515-0530  ...  0230-0245  0245-0300  0300-0315  0315-0330  \\\n",
       "0          9         13  ...          0          0          0          0   \n",
       "\n",
       "   0330-0345  0345-0400  0400-0415  0415-0430  0430-0445  0445-0500  \n",
       "0          0          0          0          0          1         15  \n",
       "\n",
       "[1 rows x 104 columns]"
      ]
     },
     "execution_count": 49,
     "metadata": {},
     "output_type": "execute_result"
    }
   ],
   "source": [
    "df_20.head(1)"
   ]
  },
  {
   "cell_type": "code",
   "execution_count": 50,
   "metadata": {},
   "outputs": [
    {
     "data": {
      "text/html": [
       "<div>\n",
       "<style scoped>\n",
       "    .dataframe tbody tr th:only-of-type {\n",
       "        vertical-align: middle;\n",
       "    }\n",
       "\n",
       "    .dataframe tbody tr th {\n",
       "        vertical-align: top;\n",
       "    }\n",
       "\n",
       "    .dataframe thead th {\n",
       "        text-align: right;\n",
       "    }\n",
       "</style>\n",
       "<table border=\"1\" class=\"dataframe\">\n",
       "  <thead>\n",
       "    <tr style=\"text-align: right;\">\n",
       "      <th></th>\n",
       "      <th>Mode</th>\n",
       "      <th>NLC</th>\n",
       "      <th>ASC</th>\n",
       "      <th>Station</th>\n",
       "      <th>Coverage</th>\n",
       "      <th>year</th>\n",
       "      <th>day</th>\n",
       "      <th>dir</th>\n",
       "      <th>0500-0515</th>\n",
       "      <th>0515-0530</th>\n",
       "      <th>...</th>\n",
       "      <th>0230-0245</th>\n",
       "      <th>0245-0300</th>\n",
       "      <th>0300-0315</th>\n",
       "      <th>0315-0330</th>\n",
       "      <th>0330-0345</th>\n",
       "      <th>0345-0400</th>\n",
       "      <th>0400-0415</th>\n",
       "      <th>0415-0430</th>\n",
       "      <th>0430-0445</th>\n",
       "      <th>0445-0500</th>\n",
       "    </tr>\n",
       "  </thead>\n",
       "  <tbody>\n",
       "    <tr>\n",
       "      <th>0</th>\n",
       "      <td>LU</td>\n",
       "      <td>500</td>\n",
       "      <td>ACTu</td>\n",
       "      <td>Acton Town</td>\n",
       "      <td>Station entry / exit</td>\n",
       "      <td>2021</td>\n",
       "      <td>MTT</td>\n",
       "      <td>IN</td>\n",
       "      <td>12</td>\n",
       "      <td>30</td>\n",
       "      <td>...</td>\n",
       "      <td>0</td>\n",
       "      <td>0</td>\n",
       "      <td>0</td>\n",
       "      <td>0</td>\n",
       "      <td>0</td>\n",
       "      <td>0</td>\n",
       "      <td>0</td>\n",
       "      <td>0</td>\n",
       "      <td>2</td>\n",
       "      <td>17</td>\n",
       "    </tr>\n",
       "  </tbody>\n",
       "</table>\n",
       "<p>1 rows × 104 columns</p>\n",
       "</div>"
      ],
      "text/plain": [
       "  Mode  NLC   ASC     Station              Coverage  year  day  dir  \\\n",
       "0   LU  500  ACTu  Acton Town  Station entry / exit  2021  MTT   IN   \n",
       "\n",
       "   0500-0515  0515-0530  ...  0230-0245  0245-0300  0300-0315  0315-0330  \\\n",
       "0         12         30  ...          0          0          0          0   \n",
       "\n",
       "   0330-0345  0345-0400  0400-0415  0415-0430  0430-0445  0445-0500  \n",
       "0          0          0          0          0          2         17  \n",
       "\n",
       "[1 rows x 104 columns]"
      ]
     },
     "execution_count": 50,
     "metadata": {},
     "output_type": "execute_result"
    }
   ],
   "source": [
    "df_21.head(1)"
   ]
  },
  {
   "cell_type": "markdown",
   "metadata": {},
   "source": [
    "### FEATURE DEFINITIONS"
   ]
  },
  {
   "cell_type": "markdown",
   "metadata": {},
   "source": [
    "1. Mode:<br>\n",
    ">\n",
    "modeID|mode|modecode|modedescription\n",
    "---|---|---|---|\n",
    "10|LU|u|London Underground\n",
    "30|LO|o|London Overground\n",
    "40|EZL|r|Elizabeth Line\n",
    "50|DLR|d|Docklands Light Railway\n",
    "60|NR|r|National Rail\n",
    "70|TRM|t|London Trams\n"
   ]
  },
  {
   "cell_type": "markdown",
   "metadata": {},
   "source": [
    "\n",
    "As we are focusing on London Undergrund, we will filter the passenger count dataset to only feature data for London Underground `LU`. <br>\n",
    "The lines under London Underground are: <br>\n",
    ">\n",
    "Line Group | Line Name Long | ASC with suffix | Definition\n",
    "---|---|---|---\n",
    "LU\t|Bakerloo\t|BAK\t| \n",
    "LU\t|Central\t|CEN\t| \n",
    "LU\t|District\t|DIS\t| \n",
    "LU\t|Hammersmith City\t|H&C\t| \n",
    "LU\t|Jubilee\t|JUB\t| \n",
    "LU\t|Metropolitan\t|MET\t| \n",
    "LU\t|Northern\t|NOR\t| \n",
    "LU\t|Piccadilly\t|PIC\t| \n",
    "LU\t|Victoria\t|VIC\t| \n",
    "LU\t|Waterloo City\t|WAT\t| \n"
   ]
  },
  {
   "cell_type": "markdown",
   "metadata": {},
   "source": [
    "2. Direction (dir):\n",
    ">\n",
    "Direction_Code |\tDirection_Name|\tDirection_Comment\n",
    "---|---|---\n",
    "NB|\tNorthbound|\tn/a\n",
    "SB|\tSouthbound|\tn/a\n",
    "EB|\tEastbound|\tn/a\n",
    "WB|\tWestbound|\tn/a\n",
    "IB|\tInbound|\tApplies to DLR. Inbound = towards City/Stratford\n",
    "OB|\tOutbound|\tApplies to DLR. Outbound = from City/Stratford\n",
    "UP|\tUp|\tApplies to National Rail. Up = towards London\n",
    "DN|\tDown|\tApplies to National Rail. Down = from London\n",
    "IR|\tInner Rail|\tApplies to Circle line\n",
    "OR|\tOuter Rail|\tApplies to Circle line\n"
   ]
  },
  {
   "cell_type": "markdown",
   "metadata": {},
   "source": [
    "3. DayTypes (day):\n",
    ">\n",
    "Daytype|\tDaytype| description|\tComment\n",
    "---|---|---|---\n",
    "MTF|\tMonday to Friday|\tOnly in NBT 2017\n",
    "MTT|\tMonday to Thursday|\tFrom NBT 2018 onwards\n",
    "FRI|\tFriday|\tFrom NBT 2018 onwards\n",
    "SAT|\tSaturday|\tn/a\n",
    "SUN|\tSunday|\tn/a\n"
   ]
  },
  {
   "cell_type": "code",
   "execution_count": 51,
   "metadata": {},
   "outputs": [
    {
     "name": "stdout",
     "output_type": "stream",
     "text": [
      "No. of rows, columns of 2017.csv is  (1608, 104)\n",
      "No. of rows, columns of 2018.csv is  (2144, 104)\n",
      "No. of rows, columns of 2019.csv is  (2144, 104)\n",
      "No. of rows, columns of 2020.csv is  (2144, 104)\n",
      "No. of rows, columns of 2021.csv is  (2160, 104)\n"
     ]
    }
   ],
   "source": [
    "# filtering data for only the London Underground\n",
    "\n",
    "df_17LU = df_17[df_17['Mode']=='LU']\n",
    "df_18LU = df_18[df_18['Mode']=='LU']\n",
    "df_19LU = df_19[df_19['Mode']=='LU']\n",
    "df_20LU = df_20[df_20['Mode']=='LU']\n",
    "df_21LU = df_21[df_21['Mode']=='LU']\n",
    "print(\"No. of rows, columns of 2017.csv is \",df_17LU.shape)\n",
    "print(\"No. of rows, columns of 2018.csv is \",df_18LU.shape)\n",
    "print(\"No. of rows, columns of 2019.csv is \",df_19LU.shape)\n",
    "print(\"No. of rows, columns of 2020.csv is \",df_20LU.shape)\n",
    "print(\"No. of rows, columns of 2021.csv is \",df_21LU.shape)"
   ]
  },
  {
   "cell_type": "markdown",
   "metadata": {},
   "source": [
    "### DATA STRUCTURING"
   ]
  },
  {
   "cell_type": "markdown",
   "metadata": {},
   "source": [
    "The datasets are in wide format, where each time interval is a column. In the wide format, the dataframe have 104 columns each.<br>\n",
    "We need to convert them to long format by melting the time interval columns into rows. The implication will be that:\n",
    "- the number of columns will reduce to 10 columns\n",
    "- the number of rows will increase by a multiple of the number of the melted columns, in this case, 96.<br>\n",
    "\n",
    "To convert to long-format, we will implement a `pd.melt()` method to the wide formatted dataframes."
   ]
  },
  {
   "cell_type": "code",
   "execution_count": 57,
   "metadata": {},
   "outputs": [],
   "source": [
    "def wide_to_long(df):\n",
    "    '''\n",
    "        Function that will convert wide-format dataframe to long-format\n",
    "        Input - dataframe (df)\n",
    "        Output - dataframe (df_sample_long)\n",
    "    '''\n",
    "    # saving a list of columns containing the passenger counts\n",
    "    # to the list variable time_list\n",
    "    time_list = list(df.columns)[8:]\n",
    "    # saving a list of identifier variables to the list variable id_vars\n",
    "    id_vars = list(df.columns)[:8]\n",
    "    df_sample_long = pd.melt(df, id_vars = id_vars,  value_vars = time_list, var_name = 'intervals', value_name = 'counts')\n",
    "\n",
    "    return df_sample_long"
   ]
  },
  {
   "cell_type": "code",
   "execution_count": 122,
   "metadata": {},
   "outputs": [
    {
     "name": "stdout",
     "output_type": "stream",
     "text": [
      "No. of rows, columns of 2017.csv is  (154368, 10)\n",
      "No. of rows, columns of 2018.csv is  (205824, 10)\n",
      "No. of rows, columns of 2019.csv is  (205824, 10)\n",
      "No. of rows, columns of 2020.csv is  (205824, 10)\n",
      "No. of rows, columns of 2021.csv is  (207360, 10)\n"
     ]
    }
   ],
   "source": [
    "# applying wide_to_long() function to the dataframes\n",
    "df_17LULong = wide_to_long(df_17LU)\n",
    "df_18LULong = wide_to_long(df_18LU)\n",
    "df_19LULong = wide_to_long(df_19LU)\n",
    "df_20LULong = wide_to_long(df_20LU)\n",
    "df_21LULong = wide_to_long(df_21LU)\n",
    "\n",
    "print(\"No. of rows, columns of 2017.csv is \",df_17LULong.shape)\n",
    "print(\"No. of rows, columns of 2018.csv is \",df_18LULong.shape)\n",
    "print(\"No. of rows, columns of 2019.csv is \",df_19LULong.shape)\n",
    "print(\"No. of rows, columns of 2020.csv is \",df_20LULong.shape)\n",
    "print(\"No. of rows, columns of 2021.csv is \",df_21LULong.shape)"
   ]
  },
  {
   "cell_type": "code",
   "execution_count": 84,
   "metadata": {},
   "outputs": [
    {
     "data": {
      "text/html": [
       "<div>\n",
       "<style scoped>\n",
       "    .dataframe tbody tr th:only-of-type {\n",
       "        vertical-align: middle;\n",
       "    }\n",
       "\n",
       "    .dataframe tbody tr th {\n",
       "        vertical-align: top;\n",
       "    }\n",
       "\n",
       "    .dataframe thead th {\n",
       "        text-align: right;\n",
       "    }\n",
       "</style>\n",
       "<table border=\"1\" class=\"dataframe\">\n",
       "  <thead>\n",
       "    <tr style=\"text-align: right;\">\n",
       "      <th></th>\n",
       "      <th>Mode</th>\n",
       "      <th>NLC</th>\n",
       "      <th>ASC</th>\n",
       "      <th>Station</th>\n",
       "      <th>Coverage</th>\n",
       "      <th>year</th>\n",
       "      <th>day</th>\n",
       "      <th>dir</th>\n",
       "      <th>intervals</th>\n",
       "      <th>counts</th>\n",
       "    </tr>\n",
       "  </thead>\n",
       "  <tbody>\n",
       "    <tr>\n",
       "      <th>0</th>\n",
       "      <td>LU</td>\n",
       "      <td>500</td>\n",
       "      <td>ACTu</td>\n",
       "      <td>Acton Town</td>\n",
       "      <td>Station entry / exit</td>\n",
       "      <td>2017</td>\n",
       "      <td>MTF</td>\n",
       "      <td>IN</td>\n",
       "      <td>0500-0515</td>\n",
       "      <td>22</td>\n",
       "    </tr>\n",
       "    <tr>\n",
       "      <th>1</th>\n",
       "      <td>LU</td>\n",
       "      <td>502</td>\n",
       "      <td>ALDu</td>\n",
       "      <td>Aldgate</td>\n",
       "      <td>Station entry / exit</td>\n",
       "      <td>2017</td>\n",
       "      <td>MTF</td>\n",
       "      <td>IN</td>\n",
       "      <td>0500-0515</td>\n",
       "      <td>11</td>\n",
       "    </tr>\n",
       "    <tr>\n",
       "      <th>2</th>\n",
       "      <td>LU</td>\n",
       "      <td>503</td>\n",
       "      <td>ALEu</td>\n",
       "      <td>Aldgate East</td>\n",
       "      <td>Station entry / exit</td>\n",
       "      <td>2017</td>\n",
       "      <td>MTF</td>\n",
       "      <td>IN</td>\n",
       "      <td>0500-0515</td>\n",
       "      <td>6</td>\n",
       "    </tr>\n",
       "  </tbody>\n",
       "</table>\n",
       "</div>"
      ],
      "text/plain": [
       "  Mode  NLC   ASC       Station              Coverage  year  day  dir  \\\n",
       "0   LU  500  ACTu    Acton Town  Station entry / exit  2017  MTF   IN   \n",
       "1   LU  502  ALDu       Aldgate  Station entry / exit  2017  MTF   IN   \n",
       "2   LU  503  ALEu  Aldgate East  Station entry / exit  2017  MTF   IN   \n",
       "\n",
       "   intervals  counts  \n",
       "0  0500-0515      22  \n",
       "1  0500-0515      11  \n",
       "2  0500-0515       6  "
      ]
     },
     "execution_count": 84,
     "metadata": {},
     "output_type": "execute_result"
    }
   ],
   "source": [
    "df_17LULong.head(3)"
   ]
  },
  {
   "cell_type": "code",
   "execution_count": 85,
   "metadata": {},
   "outputs": [
    {
     "name": "stdout",
     "output_type": "stream",
     "text": [
      "<class 'pandas.core.frame.DataFrame'>\n",
      "RangeIndex: 207360 entries, 0 to 207359\n",
      "Data columns (total 10 columns):\n",
      " #   Column     Non-Null Count   Dtype \n",
      "---  ------     --------------   ----- \n",
      " 0   Mode       207360 non-null  object\n",
      " 1   NLC        207360 non-null  int64 \n",
      " 2   ASC        207360 non-null  object\n",
      " 3   Station    207360 non-null  object\n",
      " 4   Coverage   206592 non-null  object\n",
      " 5   year       207360 non-null  int64 \n",
      " 6    day       207360 non-null  object\n",
      " 7    dir       207360 non-null  object\n",
      " 8   intervals  207360 non-null  object\n",
      " 9   counts     207360 non-null  int64 \n",
      "dtypes: int64(3), object(7)\n",
      "memory usage: 15.8+ MB\n"
     ]
    }
   ],
   "source": [
    "df_21LULong.info()"
   ]
  },
  {
   "cell_type": "markdown",
   "metadata": {},
   "source": [
    "                                            The long format dataframes now have a total of 10 columns each."
   ]
  },
  {
   "cell_type": "markdown",
   "metadata": {},
   "source": [
    "These columns require a change of the dtype:<br>\n",
    "- NLC - to Object\n",
    "- year - to datetime\n",
    "- day\n",
    "- interval - to datetime\n",
    "For now, we will convert the dtype of NLC column, as the other three will be dealt with in the following section."
   ]
  },
  {
   "cell_type": "code",
   "execution_count": 123,
   "metadata": {},
   "outputs": [],
   "source": [
    "# changing the dtype of NLC column to object\n",
    "df_17LULong['NLC'] = df_17LULong['NLC'].astype(\"object\")\n",
    "df_18LULong['NLC'] = df_18LULong['NLC'].astype(\"object\")\n",
    "df_19LULong['NLC'] = df_19LULong['NLC'].astype(\"object\")\n",
    "df_20LULong['NLC'] = df_20LULong['NLC'].astype(\"object\")\n",
    "df_21LULong['NLC'] = df_21LULong['NLC'].astype(\"object\")"
   ]
  },
  {
   "cell_type": "code",
   "execution_count": 124,
   "metadata": {},
   "outputs": [
    {
     "name": "stdout",
     "output_type": "stream",
     "text": [
      "<class 'pandas.core.frame.DataFrame'>\n",
      "RangeIndex: 154368 entries, 0 to 154367\n",
      "Data columns (total 10 columns):\n",
      " #   Column     Non-Null Count   Dtype \n",
      "---  ------     --------------   ----- \n",
      " 0   Mode       154368 non-null  object\n",
      " 1   NLC        154368 non-null  object\n",
      " 2   ASC        154368 non-null  object\n",
      " 3   Station    154368 non-null  object\n",
      " 4   Coverage   154368 non-null  object\n",
      " 5   year       154368 non-null  int64 \n",
      " 6    day       154368 non-null  object\n",
      " 7    dir       154368 non-null  object\n",
      " 8   intervals  154368 non-null  object\n",
      " 9   counts     154368 non-null  int64 \n",
      "dtypes: int64(2), object(8)\n",
      "memory usage: 11.8+ MB\n"
     ]
    }
   ],
   "source": [
    "# checking to see that the dtype of column NLC has changed to 'object'\n",
    "\n",
    "df_17LULong.info()"
   ]
  },
  {
   "cell_type": "markdown",
   "metadata": {},
   "source": [
    "### DATA ENRICHING\n"
   ]
  },
  {
   "cell_type": "markdown",
   "metadata": {},
   "source": [
    "For timeseries analysis, we require a column that has datetime data. We currently have the year, day and time in separate columns, and in formats that are not readily usable in a timeseries analysis.<br>\n",
    "\n",
    "To convert columns `year` and `interval` to a usable form, the following will be done:\n",
    "1. convert `interval` into a time compatible format ie `0445-0500` --> `0500` --> `05:00`\n",
    "2. assign a typical date for the day variables. I propose in format `YYYY-mm-dd`:\n",
    "> - MTT - `year`-01-01\n",
    "> - FRI - `year`-01-02\n",
    "> - SAT - `year`-01-03\n",
    "> - SUN - `year`-01-04\n",
    "3. Combine the interval from no.1 to date in no.2\n",
    "4. Create a datetime value from output of no.3, eg `2017-01-03 05:00`"
   ]
  },
  {
   "cell_type": "code",
   "execution_count": 91,
   "metadata": {},
   "outputs": [],
   "source": [
    "# using regex to extract the required time from the time intervals\n",
    "import re\n",
    "\n",
    "def extract_year(df, column):\n",
    "    '''\n",
    "        Function that will extract the end time of the interval periods\n",
    "        from each row, and output it as a string that is formatted as 'hr:min'\n",
    "    '''\n",
    "    #initialising the list variable that will store the extracted time\n",
    "    tm = []\n",
    "    for index, i in df[column].items():\n",
    "        z = re.match(\"(\\d\\d\\d\\d)-(\\d\\d\\d\\d)\",i)\n",
    "        if z:\n",
    "            t = z.group(2)\n",
    "            t = t[:2]+':'+t[2:]\n",
    "            tm.append(t)\n",
    "    return tm "
   ]
  },
  {
   "cell_type": "code",
   "execution_count": 125,
   "metadata": {},
   "outputs": [],
   "source": [
    "# applying the extract_year() function to the dataframes\n",
    "df_17LULong['time']=extract_year(df_17LULong,'intervals')\n",
    "df_18LULong['time']=extract_year(df_18LULong,'intervals')\n",
    "df_19LULong['time']=extract_year(df_19LULong,'intervals')\n",
    "df_20LULong['time']=extract_year(df_20LULong,'intervals')\n",
    "df_21LULong['time']=extract_year(df_21LULong,'intervals')\n",
    "\n"
   ]
  },
  {
   "cell_type": "code",
   "execution_count": 105,
   "metadata": {},
   "outputs": [],
   "source": [
    "# function to combine values in year, day and time columns to a date-time compatible format\n",
    "\n",
    "def day_to_datetime(df):\n",
    "    '''\n",
    "        Function will change:\n",
    "            MTT --> `year`-01-01 00:00\n",
    "            MTF --> `year`-01-02 00:00\n",
    "            FRI --> `year`-01-02 00:00\n",
    "            SAT --> `year`-01-03 00:00\n",
    "            SUN --> `year`-01-04 00:00\n",
    "            where   year is value in the column 'year'\n",
    "                    time is value in the column 'time'\n",
    "        Already, time is in 24hr system, and therefore \n",
    "        no time system conversion is necessary.\n",
    "        Output will be a string in the form 20xx-01-0x xx:xx\n",
    "    '''\n",
    "    yr = []\n",
    "    day = []\n",
    "    time = []\n",
    "    yr_day_time =[]\n",
    "    for value1 in df['year']:\n",
    "        yr.append(value1)\n",
    "    for value2 in df[' day']:\n",
    "        if value2 == 'MTT':\n",
    "            day.append('-01-01')\n",
    "        elif value2 == 'MTF':\n",
    "            day.append('-01-02')\n",
    "        elif value2 == 'FRI':\n",
    "            day.append('-01-02')\n",
    "        elif value2 == 'SAT':\n",
    "            day.append('-01-03')\n",
    "        elif value2 == 'SUN':\n",
    "            day.append('-01-04')\n",
    "    for value3 in df['time']:\n",
    "        time.append(value3)\n",
    "\n",
    "    for i in range(len(yr)):\n",
    "        yr_day_time.append(str(yr[i])+day[i]+' '+time[i])\n",
    "    return yr_day_time"
   ]
  },
  {
   "cell_type": "code",
   "execution_count": 126,
   "metadata": {},
   "outputs": [],
   "source": [
    "# applying function dat_to_datetime to the dataframes,\n",
    "# creating a new column 'date_time'\n",
    "df_17LULong['date_time'] = day_to_datetime(df_17LULong)\n",
    "df_18LULong['date_time'] = day_to_datetime(df_18LULong)\n",
    "df_19LULong['date_time'] = day_to_datetime(df_19LULong)\n",
    "df_20LULong['date_time'] = day_to_datetime(df_20LULong)\n",
    "df_21LULong['date_time'] = day_to_datetime(df_21LULong)\n",
    "\n",
    "# converting values in 'date_time' column into datetime dtype\n",
    "df_17LULong['date_time'] = pd.to_datetime(df_17LULong['date_time'])\n",
    "df_18LULong['date_time'] = pd.to_datetime(df_18LULong['date_time'])\n",
    "df_19LULong['date_time'] = pd.to_datetime(df_19LULong['date_time'])\n",
    "df_20LULong['date_time'] = pd.to_datetime(df_20LULong['date_time'])\n",
    "df_21LULong['date_time'] = pd.to_datetime(df_21LULong['date_time'])"
   ]
  },
  {
   "cell_type": "code",
   "execution_count": 114,
   "metadata": {},
   "outputs": [
    {
     "data": {
      "text/plain": [
       "(154368, 12)"
      ]
     },
     "execution_count": 114,
     "metadata": {},
     "output_type": "execute_result"
    }
   ],
   "source": [
    "df_17LULong.shape"
   ]
  },
  {
   "cell_type": "code",
   "execution_count": 115,
   "metadata": {},
   "outputs": [
    {
     "data": {
      "text/html": [
       "<div>\n",
       "<style scoped>\n",
       "    .dataframe tbody tr th:only-of-type {\n",
       "        vertical-align: middle;\n",
       "    }\n",
       "\n",
       "    .dataframe tbody tr th {\n",
       "        vertical-align: top;\n",
       "    }\n",
       "\n",
       "    .dataframe thead th {\n",
       "        text-align: right;\n",
       "    }\n",
       "</style>\n",
       "<table border=\"1\" class=\"dataframe\">\n",
       "  <thead>\n",
       "    <tr style=\"text-align: right;\">\n",
       "      <th></th>\n",
       "      <th>Mode</th>\n",
       "      <th>NLC</th>\n",
       "      <th>ASC</th>\n",
       "      <th>Station</th>\n",
       "      <th>Coverage</th>\n",
       "      <th>year</th>\n",
       "      <th>day</th>\n",
       "      <th>dir</th>\n",
       "      <th>intervals</th>\n",
       "      <th>counts</th>\n",
       "      <th>time</th>\n",
       "      <th>date_time</th>\n",
       "    </tr>\n",
       "  </thead>\n",
       "  <tbody>\n",
       "    <tr>\n",
       "      <th>0</th>\n",
       "      <td>LU</td>\n",
       "      <td>500</td>\n",
       "      <td>ACTu</td>\n",
       "      <td>Acton Town</td>\n",
       "      <td>Station entry / exit</td>\n",
       "      <td>2017</td>\n",
       "      <td>MTF</td>\n",
       "      <td>IN</td>\n",
       "      <td>0500-0515</td>\n",
       "      <td>22</td>\n",
       "      <td>05:15</td>\n",
       "      <td>2017-01-02 05:15:00</td>\n",
       "    </tr>\n",
       "    <tr>\n",
       "      <th>1</th>\n",
       "      <td>LU</td>\n",
       "      <td>502</td>\n",
       "      <td>ALDu</td>\n",
       "      <td>Aldgate</td>\n",
       "      <td>Station entry / exit</td>\n",
       "      <td>2017</td>\n",
       "      <td>MTF</td>\n",
       "      <td>IN</td>\n",
       "      <td>0500-0515</td>\n",
       "      <td>11</td>\n",
       "      <td>05:15</td>\n",
       "      <td>2017-01-02 05:15:00</td>\n",
       "    </tr>\n",
       "    <tr>\n",
       "      <th>2</th>\n",
       "      <td>LU</td>\n",
       "      <td>503</td>\n",
       "      <td>ALEu</td>\n",
       "      <td>Aldgate East</td>\n",
       "      <td>Station entry / exit</td>\n",
       "      <td>2017</td>\n",
       "      <td>MTF</td>\n",
       "      <td>IN</td>\n",
       "      <td>0500-0515</td>\n",
       "      <td>6</td>\n",
       "      <td>05:15</td>\n",
       "      <td>2017-01-02 05:15:00</td>\n",
       "    </tr>\n",
       "  </tbody>\n",
       "</table>\n",
       "</div>"
      ],
      "text/plain": [
       "  Mode  NLC   ASC       Station              Coverage  year  day  dir  \\\n",
       "0   LU  500  ACTu    Acton Town  Station entry / exit  2017  MTF   IN   \n",
       "1   LU  502  ALDu       Aldgate  Station entry / exit  2017  MTF   IN   \n",
       "2   LU  503  ALEu  Aldgate East  Station entry / exit  2017  MTF   IN   \n",
       "\n",
       "   intervals  counts   time           date_time  \n",
       "0  0500-0515      22  05:15 2017-01-02 05:15:00  \n",
       "1  0500-0515      11  05:15 2017-01-02 05:15:00  \n",
       "2  0500-0515       6  05:15 2017-01-02 05:15:00  "
      ]
     },
     "execution_count": 115,
     "metadata": {},
     "output_type": "execute_result"
    }
   ],
   "source": [
    "df_17LULong.head(3)"
   ]
  },
  {
   "cell_type": "code",
   "execution_count": 116,
   "metadata": {},
   "outputs": [
    {
     "name": "stdout",
     "output_type": "stream",
     "text": [
      "<class 'pandas.core.frame.DataFrame'>\n",
      "RangeIndex: 154368 entries, 0 to 154367\n",
      "Data columns (total 12 columns):\n",
      " #   Column     Non-Null Count   Dtype         \n",
      "---  ------     --------------   -----         \n",
      " 0   Mode       154368 non-null  object        \n",
      " 1   NLC        154368 non-null  int64         \n",
      " 2   ASC        154368 non-null  object        \n",
      " 3   Station    154368 non-null  object        \n",
      " 4   Coverage   154368 non-null  object        \n",
      " 5   year       154368 non-null  int64         \n",
      " 6    day       154368 non-null  object        \n",
      " 7    dir       154368 non-null  object        \n",
      " 8   intervals  154368 non-null  object        \n",
      " 9   counts     154368 non-null  int64         \n",
      " 10  time       154368 non-null  object        \n",
      " 11  date_time  154368 non-null  datetime64[ns]\n",
      "dtypes: datetime64[ns](1), int64(3), object(8)\n",
      "memory usage: 14.1+ MB\n"
     ]
    }
   ],
   "source": [
    "df_17LULong.info()"
   ]
  },
  {
   "cell_type": "markdown",
   "metadata": {},
   "source": [
    "### CONSOLIDATION OF DATAFRAMES INTO 1 DATAFRAME"
   ]
  },
  {
   "cell_type": "code",
   "execution_count": 127,
   "metadata": {},
   "outputs": [],
   "source": [
    "# appending columns from all the five dataframes into one dataframe\n",
    "\n",
    "frames = [df_17LULong, df_18LULong, df_19LULong, df_20LULong, df_21LULong]\n",
    "df_pass = pd.concat(frames)"
   ]
  },
  {
   "cell_type": "code",
   "execution_count": 128,
   "metadata": {},
   "outputs": [
    {
     "data": {
      "text/plain": [
       "(979200, 12)"
      ]
     },
     "execution_count": 128,
     "metadata": {},
     "output_type": "execute_result"
    }
   ],
   "source": [
    "df_pass.shape"
   ]
  },
  {
   "cell_type": "markdown",
   "metadata": {},
   "source": [
    "### **STORING PREPARED DATA**"
   ]
  },
  {
   "cell_type": "markdown",
   "metadata": {},
   "source": [
    "The prepared dataframe will be exported to a parquet file ready for subsequent processes.. <br>\n",
    "Parquet stores data in a columnar format. I am using .parquet over .csv because .parquet has the following advantages:\n",
    "- Good for storing big data of any kind\n",
    "- Increased data throughput and performance\n",
    "- Parquet is a binary format and allows encoded data types"
   ]
  },
  {
   "cell_type": "code",
   "execution_count": 131,
   "metadata": {},
   "outputs": [],
   "source": [
    "df_pass.to_parquet('working/data/2017-2021_data.parquet') \n",
    "df_pass.to_csv('working/data/2017-2021_data.csv') "
   ]
  },
  {
   "cell_type": "markdown",
   "metadata": {},
   "source": [
    "![PArquet vs CSV](Resources/References/parquet_vs_csv.PNG)\n",
    "\n",
    "As can be seen in this image, the csv file for the output is 100MBs in size, while the parquet file for the same output is 5MBs in size. This is a 95% saving in storage space.<br>\n",
    "\n",
    "Using Parquet enables fast transfer and also access of the dataset."
   ]
  },
  {
   "cell_type": "markdown",
   "metadata": {},
   "source": []
  }
 ],
 "metadata": {
  "kernelspec": {
   "display_name": "Python 3.9.12 ('base')",
   "language": "python",
   "name": "python3"
  },
  "language_info": {
   "codemirror_mode": {
    "name": "ipython",
    "version": 3
   },
   "file_extension": ".py",
   "mimetype": "text/x-python",
   "name": "python",
   "nbconvert_exporter": "python",
   "pygments_lexer": "ipython3",
   "version": "3.9.12"
  },
  "vscode": {
   "interpreter": {
    "hash": "6f5583cf1d9466b5c27e75c89cc6b383bed5736d6b16c51c8074d8690011a952"
   }
  }
 },
 "nbformat": 4,
 "nbformat_minor": 2
}
