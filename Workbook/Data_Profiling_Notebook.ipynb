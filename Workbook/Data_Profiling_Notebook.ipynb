{
 "cells": [
  {
   "cell_type": "markdown",
   "metadata": {},
   "source": [
    "# Tube Twin: Passenger count forecasting/general tube analysis \n",
    "\n",
    "© Explore Data Science Academy\n",
    "\n",
    "## Introduction \n",
    "\n",
    "<div align=\"center\" style=\"width: 600px; font-size: 80%; text-align: center; margin: 0 auto\">\n",
    "<img src=\"../Assets/LU_Baker-street.jpg\" \n",
    "     alt=\"London Underground\"\n",
    "     style=\"float: center; padding-bottom=0.5em\"\n",
    "     width=100%/>\n",
    "     <p><em>Figure 1. The London Tube</em></p> \n",
    "</div>\n",
    "\n",
    "**Client**: Transport for London (TfL) \n",
    "\n",
    "Transport for London runs the London Underground (aka “The Tube”), which is a network of train stations which connects the city of London.\n",
    "\n",
    "**Team**: \n",
    "\n",
    "This is Team 6. A combination of data scientists and data engineers that have been assigned the Tube Twin project and this is a notebook for executing various aspect of the project workflow. \n",
    "\n",
    "## Context\n",
    "\n",
    "This project's objective is to create a digital twin of the london tube that can be used for passenger count and traffic analyses/forecasting.\n"
   ]
  },
  {
   "cell_type": "markdown",
   "metadata": {},
   "source": [
    "## Import libraries\n",
    "Below we import the libraries required to complete this section of the predict."
   ]
  },
  {
   "cell_type": "code",
   "execution_count": 1,
   "metadata": {},
   "outputs": [],
   "source": [
    "import findspark\n",
    "findspark.init()\n",
    "findspark.find()\n",
    "\n",
    "import pandas as pd\n",
    "import numpy as np\n",
    "import matplotlib.pyplot as plt\n",
    "\n",
    "from pyspark import SparkContext\n",
    "from pyspark.sql import SparkSession\n",
    "from pyspark.sql import functions as F\n",
    "from pyspark.sql.types import * "
   ]
  },
  {
   "cell_type": "markdown",
   "metadata": {},
   "source": [
    "> ℹ️ **Objective** ℹ️\n",
    ">\n",
    ">Initialise a new **Spark Context** and **Session** for interfacing with Spark."
   ]
  },
  {
   "cell_type": "code",
   "execution_count": 3,
   "metadata": {},
   "outputs": [],
   "source": [
    "sc = SparkContext.getOrCreate()\n",
    "spark = SparkSession(sc) "
   ]
  },
  {
   "cell_type": "markdown",
   "metadata": {},
   "source": [
    "## Parquet files\n",
    "In the previous section of the predict, you generated parquet files to your local directory. You will be making use of these files to continue with this section of the predict. Please make sure that your parquet files are specifically for the year **1962**. Any other year used outside of **1962** will produce incorrect answers and have a negative impact on your overall predict mark.\n",
    "\n",
    "> ℹ️ **Instructions** ℹ️\n",
    ">\n",
    "> Read the parquet files stored in your directory for the year **1962** into a Spark DataFrame."
   ]
  },
  {
   "cell_type": "code",
   "execution_count": 4,
   "metadata": {},
   "outputs": [
    {
     "name": "stdout",
     "output_type": "stream",
     "text": [
      "+----+---+----+----------+--------------------+-------------------+---+---+------+-----+-------+----------+-------+-------+----+---------+---------+---------+---------+---------+---------+---------+---------+---------+---------+---------+---------+---------+---------+---------+---------+---------+---------+---------+---------+---------+---------+---------+---------+---------+---------+---------+---------+---------+---------+---------+---------+---------+---------+---------+---------+---------+---------+---------+---------+---------+---------+---------+---------+---------+---------+---------+---------+---------+---------+---------+---------+---------+---------+---------+---------+---------+---------+---------+---------+---------+---------+---------+---------+---------+---------+---------+---------+---------+---------+---------+---------+---------+---------+---------+---------+---------+---------+---------+---------+---------+---------+---------+---------+---------+---------+---------+---------+---------+---------+---------+---------+---------+---------+---------+---------+\n",
      "|mode|nlc| asc|   station|            coverage|               year|day|dir| total|early|am_peak|inter_peak|pm_peak|evening|late|0500-0515|0515-0530|0530-0545|0545-0600|0600-0615|0615-0630|0630-0645|0645-0700|0700-0715|0715-0730|0730-0745|0745-0800|0800-0815|0815-0830|0830-0845|0845-0900|0900-0915|0915-0930|0930-0945|0945-1000|1000-1015|1015-1030|1030-1045|1045-1100|1100-1115|1115-1130|1130-1145|1145-1200|1200-1215|1215-1230|1230-1245|1245-1300|1300-1315|1315-1330|1330-1345|1345-1400|1400-1415|1415-1430|1430-1445|1445-1500|1500-1515|1515-1530|1530-1545|1545-1600|1600-1615|1615-1630|1630-1645|1645-1700|1700-1715|1715-1730|1730-1745|1745-1800|1800-1815|1815-1830|1830-1845|1845-1900|1900-1915|1915-1930|1930-1945|1945-2000|2000-2015|2015-2030|2030-2045|2045-2100|2100-2115|2115-2130|2130-2145|2145-2200|2200-2215|2215-2230|2230-2245|2245-2300|2300-2315|2315-2330|2330-2345|2345-0000|0000-0015|0015-0030|0030-0045|0045-0100|0100-0115|0115-0130|0130-0145|0145-0200|0200-0215|0215-0230|0230-0245|0245-0300|0300-0315|0315-0330|0330-0345|0345-0400|0400-0415|0415-0430|0430-0445|0445-0500|\n",
      "+----+---+----+----------+--------------------+-------------------+---+---+------+-----+-------+----------+-------+-------+----+---------+---------+---------+---------+---------+---------+---------+---------+---------+---------+---------+---------+---------+---------+---------+---------+---------+---------+---------+---------+---------+---------+---------+---------+---------+---------+---------+---------+---------+---------+---------+---------+---------+---------+---------+---------+---------+---------+---------+---------+---------+---------+---------+---------+---------+---------+---------+---------+---------+---------+---------+---------+---------+---------+---------+---------+---------+---------+---------+---------+---------+---------+---------+---------+---------+---------+---------+---------+---------+---------+---------+---------+---------+---------+---------+---------+---------+---------+---------+---------+---------+---------+---------+---------+---------+---------+---------+---------+---------+---------+---------+---------+---------+---------+---------+---------+\n",
      "|  LU|500|ACTu|Acton Town|Station entry / exit|2020-01-01 00:00:00|MTT| IN|3701.9|288.2| 1101.2|    1185.7|  824.2|  213.2|89.4|      8.6|     13.4|     15.3|     22.4|     37.5|     49.3|     68.0|     73.7|    102.9|    110.8|    116.2|    120.3|    140.6|    118.9|    106.0|     79.1|     64.3|     56.1|     44.5|     41.5|     43.0|     43.0|     35.0|     30.9|     40.0|     39.0|     34.7|     31.1|     38.5|     33.3|     36.2|     32.8|     37.8|     42.3|     42.1|     36.5|     56.7|     55.1|     56.1|     57.4|     66.7|     77.8|    121.3|     98.4|     97.3|     90.4|     83.0|     72.6|     77.7|     98.0|     69.8|     59.6|     55.9|     42.1|     43.9|     33.9|     27.6|     24.2|     24.8|     17.2|     35.2|     17.0|     15.0|     12.0|     10.7|     10.0|      9.6|      9.9|     11.5|     10.1|     10.5|      6.1|     11.5|      6.6|      5.5|      3.7|      2.2|      0.6|      1.8|      1.5|      1.8|      0.1|      0.0|      0.0|      0.0|      0.0|      0.0|      0.0|      0.0|      0.0|      0.0|      0.0|      0.0|      0.0|      0.6|     15.3|\n",
      "+----+---+----+----------+--------------------+-------------------+---+---+------+-----+-------+----------+-------+-------+----+---------+---------+---------+---------+---------+---------+---------+---------+---------+---------+---------+---------+---------+---------+---------+---------+---------+---------+---------+---------+---------+---------+---------+---------+---------+---------+---------+---------+---------+---------+---------+---------+---------+---------+---------+---------+---------+---------+---------+---------+---------+---------+---------+---------+---------+---------+---------+---------+---------+---------+---------+---------+---------+---------+---------+---------+---------+---------+---------+---------+---------+---------+---------+---------+---------+---------+---------+---------+---------+---------+---------+---------+---------+---------+---------+---------+---------+---------+---------+---------+---------+---------+---------+---------+---------+---------+---------+---------+---------+---------+---------+---------+---------+---------+---------+---------+\n",
      "only showing top 1 row\n",
      "\n",
      "root\n",
      " |-- mode: string (nullable = true)\n",
      " |-- nlc: integer (nullable = true)\n",
      " |-- asc: string (nullable = true)\n",
      " |-- station: string (nullable = true)\n",
      " |-- coverage: string (nullable = true)\n",
      " |-- year: timestamp (nullable = true)\n",
      " |-- day: string (nullable = true)\n",
      " |-- dir: string (nullable = true)\n",
      " |-- total: float (nullable = true)\n",
      " |-- early: float (nullable = true)\n",
      " |-- am_peak: float (nullable = true)\n",
      " |-- inter_peak: float (nullable = true)\n",
      " |-- pm_peak: float (nullable = true)\n",
      " |-- evening: float (nullable = true)\n",
      " |-- late: float (nullable = true)\n",
      " |-- 0500-0515: float (nullable = true)\n",
      " |-- 0515-0530: float (nullable = true)\n",
      " |-- 0530-0545: float (nullable = true)\n",
      " |-- 0545-0600: float (nullable = true)\n",
      " |-- 0600-0615: float (nullable = true)\n",
      " |-- 0615-0630: float (nullable = true)\n",
      " |-- 0630-0645: float (nullable = true)\n",
      " |-- 0645-0700: float (nullable = true)\n",
      " |-- 0700-0715: float (nullable = true)\n",
      " |-- 0715-0730: float (nullable = true)\n",
      " |-- 0730-0745: float (nullable = true)\n",
      " |-- 0745-0800: float (nullable = true)\n",
      " |-- 0800-0815: float (nullable = true)\n",
      " |-- 0815-0830: float (nullable = true)\n",
      " |-- 0830-0845: float (nullable = true)\n",
      " |-- 0845-0900: float (nullable = true)\n",
      " |-- 0900-0915: float (nullable = true)\n",
      " |-- 0915-0930: float (nullable = true)\n",
      " |-- 0930-0945: float (nullable = true)\n",
      " |-- 0945-1000: float (nullable = true)\n",
      " |-- 1000-1015: float (nullable = true)\n",
      " |-- 1015-1030: float (nullable = true)\n",
      " |-- 1030-1045: float (nullable = true)\n",
      " |-- 1045-1100: float (nullable = true)\n",
      " |-- 1100-1115: float (nullable = true)\n",
      " |-- 1115-1130: float (nullable = true)\n",
      " |-- 1130-1145: float (nullable = true)\n",
      " |-- 1145-1200: float (nullable = true)\n",
      " |-- 1200-1215: float (nullable = true)\n",
      " |-- 1215-1230: float (nullable = true)\n",
      " |-- 1230-1245: float (nullable = true)\n",
      " |-- 1245-1300: float (nullable = true)\n",
      " |-- 1300-1315: float (nullable = true)\n",
      " |-- 1315-1330: float (nullable = true)\n",
      " |-- 1330-1345: float (nullable = true)\n",
      " |-- 1345-1400: float (nullable = true)\n",
      " |-- 1400-1415: float (nullable = true)\n",
      " |-- 1415-1430: float (nullable = true)\n",
      " |-- 1430-1445: float (nullable = true)\n",
      " |-- 1445-1500: float (nullable = true)\n",
      " |-- 1500-1515: float (nullable = true)\n",
      " |-- 1515-1530: float (nullable = true)\n",
      " |-- 1530-1545: float (nullable = true)\n",
      " |-- 1545-1600: float (nullable = true)\n",
      " |-- 1600-1615: float (nullable = true)\n",
      " |-- 1615-1630: float (nullable = true)\n",
      " |-- 1630-1645: float (nullable = true)\n",
      " |-- 1645-1700: float (nullable = true)\n",
      " |-- 1700-1715: float (nullable = true)\n",
      " |-- 1715-1730: float (nullable = true)\n",
      " |-- 1730-1745: float (nullable = true)\n",
      " |-- 1745-1800: float (nullable = true)\n",
      " |-- 1800-1815: float (nullable = true)\n",
      " |-- 1815-1830: float (nullable = true)\n",
      " |-- 1830-1845: float (nullable = true)\n",
      " |-- 1845-1900: float (nullable = true)\n",
      " |-- 1900-1915: float (nullable = true)\n",
      " |-- 1915-1930: float (nullable = true)\n",
      " |-- 1930-1945: float (nullable = true)\n",
      " |-- 1945-2000: float (nullable = true)\n",
      " |-- 2000-2015: float (nullable = true)\n",
      " |-- 2015-2030: float (nullable = true)\n",
      " |-- 2030-2045: float (nullable = true)\n",
      " |-- 2045-2100: float (nullable = true)\n",
      " |-- 2100-2115: float (nullable = true)\n",
      " |-- 2115-2130: float (nullable = true)\n",
      " |-- 2130-2145: float (nullable = true)\n",
      " |-- 2145-2200: float (nullable = true)\n",
      " |-- 2200-2215: float (nullable = true)\n",
      " |-- 2215-2230: float (nullable = true)\n",
      " |-- 2230-2245: float (nullable = true)\n",
      " |-- 2245-2300: float (nullable = true)\n",
      " |-- 2300-2315: float (nullable = true)\n",
      " |-- 2315-2330: float (nullable = true)\n",
      " |-- 2330-2345: float (nullable = true)\n",
      " |-- 2345-0000: float (nullable = true)\n",
      " |-- 0000-0015: float (nullable = true)\n",
      " |-- 0015-0030: float (nullable = true)\n",
      " |-- 0030-0045: float (nullable = true)\n",
      " |-- 0045-0100: float (nullable = true)\n",
      " |-- 0100-0115: float (nullable = true)\n",
      " |-- 0115-0130: float (nullable = true)\n",
      " |-- 0130-0145: float (nullable = true)\n",
      " |-- 0145-0200: float (nullable = true)\n",
      " |-- 0200-0215: float (nullable = true)\n",
      " |-- 0215-0230: float (nullable = true)\n",
      " |-- 0230-0245: float (nullable = true)\n",
      " |-- 0245-0300: float (nullable = true)\n",
      " |-- 0300-0315: float (nullable = true)\n",
      " |-- 0315-0330: float (nullable = true)\n",
      " |-- 0330-0345: float (nullable = true)\n",
      " |-- 0345-0400: float (nullable = true)\n",
      " |-- 0400-0415: float (nullable = true)\n",
      " |-- 0415-0430: float (nullable = true)\n",
      " |-- 0430-0445: float (nullable = true)\n",
      " |-- 0445-0500: float (nullable = true)\n",
      "\n"
     ]
    }
   ],
   "source": [
    "parquet_file_path = r'../Data/data_ingestion.parquet' \n",
    "df = spark.read.parquet(parquet_file_path, engine='auto') \n",
    "\n",
    "df.show(1) \n",
    "\n",
    "df.printSchema() "
   ]
  },
  {
   "cell_type": "markdown",
   "metadata": {},
   "source": [
    "## Data Accuracy\n",
    "Data accuracy is the degree to which data correctly describes a \"real world\" object or event.\n",
    "\n",
    "It is important to do checks to determine the basic integrity of the dataset; do the values fall within expected ranges?\n",
    "\n",
    "Most of the possible errors relating to data accuracy can occur at collection time. In our case, it is not possible to test the collection time accuracy, so we have to infer from ranges and summary statistics. Here you need to look closely at each field to see if its values make sense, with no strange surprises.\n",
    "\n",
    "In assessing accuracy, it is important to look into precision as well. Do you need seven decimals, or will one or two suffice?\n",
    "\n",
    "- **Measured by**: The degree to which the data mirrors the characteristics of the real-world object or objects it represents;\n",
    "- **Units**: The percentage of data entries that pass the data accuracy rules;\n",
    "- **Related to**: Validity, Uniqueness, Consistency."
   ]
  },
  {
   "cell_type": "markdown",
   "metadata": {},
   "source": [
    "> ℹ️ **Instructions** ℹ️\n",
    ">\n",
    "> Generate summary statistics to explore your data. Make sure you understand the ranges, means, extremums, and deviations found in the data set."
   ]
  },
  {
   "cell_type": "code",
   "execution_count": 5,
   "metadata": {},
   "outputs": [
    {
     "data": {
      "text/html": [
       "<div>\n",
       "<style scoped>\n",
       "    .dataframe tbody tr th:only-of-type {\n",
       "        vertical-align: middle;\n",
       "    }\n",
       "\n",
       "    .dataframe tbody tr th {\n",
       "        vertical-align: top;\n",
       "    }\n",
       "\n",
       "    .dataframe thead th {\n",
       "        text-align: right;\n",
       "    }\n",
       "</style>\n",
       "<table border=\"1\" class=\"dataframe\">\n",
       "  <thead>\n",
       "    <tr style=\"text-align: right;\">\n",
       "      <th></th>\n",
       "      <th>summary</th>\n",
       "      <th>mode</th>\n",
       "      <th>nlc</th>\n",
       "      <th>asc</th>\n",
       "      <th>station</th>\n",
       "      <th>coverage</th>\n",
       "      <th>day</th>\n",
       "      <th>dir</th>\n",
       "      <th>total</th>\n",
       "      <th>early</th>\n",
       "      <th>...</th>\n",
       "      <th>0230-0245</th>\n",
       "      <th>0245-0300</th>\n",
       "      <th>0300-0315</th>\n",
       "      <th>0315-0330</th>\n",
       "      <th>0330-0345</th>\n",
       "      <th>0345-0400</th>\n",
       "      <th>0400-0415</th>\n",
       "      <th>0415-0430</th>\n",
       "      <th>0430-0445</th>\n",
       "      <th>0445-0500</th>\n",
       "    </tr>\n",
       "  </thead>\n",
       "  <tbody>\n",
       "    <tr>\n",
       "      <th>0</th>\n",
       "      <td>count</td>\n",
       "      <td>17458</td>\n",
       "      <td>17458</td>\n",
       "      <td>17458</td>\n",
       "      <td>17458</td>\n",
       "      <td>17426</td>\n",
       "      <td>17458</td>\n",
       "      <td>17458</td>\n",
       "      <td>17458</td>\n",
       "      <td>17458</td>\n",
       "      <td>...</td>\n",
       "      <td>17458</td>\n",
       "      <td>17458</td>\n",
       "      <td>17458</td>\n",
       "      <td>17458</td>\n",
       "      <td>17458</td>\n",
       "      <td>17458</td>\n",
       "      <td>17458</td>\n",
       "      <td>17458</td>\n",
       "      <td>17458</td>\n",
       "      <td>17458</td>\n",
       "    </tr>\n",
       "    <tr>\n",
       "      <th>1</th>\n",
       "      <td>mean</td>\n",
       "      <td>None</td>\n",
       "      <td>1852.8311375873525</td>\n",
       "      <td>None</td>\n",
       "      <td>None</td>\n",
       "      <td>None</td>\n",
       "      <td>None</td>\n",
       "      <td>None</td>\n",
       "      <td>7775.084349474883</td>\n",
       "      <td>233.7227949993955</td>\n",
       "      <td>...</td>\n",
       "      <td>1.9423187077557567</td>\n",
       "      <td>1.7743727803872151</td>\n",
       "      <td>1.7268301065414138</td>\n",
       "      <td>1.579161415969756</td>\n",
       "      <td>1.472104479321801</td>\n",
       "      <td>1.280100813380685</td>\n",
       "      <td>1.2375988085691374</td>\n",
       "      <td>1.0241150189025088</td>\n",
       "      <td>1.078293438024498</td>\n",
       "      <td>1.3625567523147573</td>\n",
       "    </tr>\n",
       "    <tr>\n",
       "      <th>2</th>\n",
       "      <td>stddev</td>\n",
       "      <td>None</td>\n",
       "      <td>2424.44910158847</td>\n",
       "      <td>None</td>\n",
       "      <td>None</td>\n",
       "      <td>None</td>\n",
       "      <td>None</td>\n",
       "      <td>None</td>\n",
       "      <td>13769.647893261645</td>\n",
       "      <td>468.22794749453533</td>\n",
       "      <td>...</td>\n",
       "      <td>13.111663927029532</td>\n",
       "      <td>12.109944524839134</td>\n",
       "      <td>12.207975715277005</td>\n",
       "      <td>11.520009065235147</td>\n",
       "      <td>10.227679385395252</td>\n",
       "      <td>8.398657775338465</td>\n",
       "      <td>7.863147646917768</td>\n",
       "      <td>6.263068928113061</td>\n",
       "      <td>5.715258852086833</td>\n",
       "      <td>5.665110255652002</td>\n",
       "    </tr>\n",
       "    <tr>\n",
       "      <th>3</th>\n",
       "      <td>min</td>\n",
       "      <td>DLR</td>\n",
       "      <td>500</td>\n",
       "      <td>ABRd</td>\n",
       "      <td>Abbey Road</td>\n",
       "      <td>DLR boarding / alighting</td>\n",
       "      <td>FRI</td>\n",
       "      <td>IN</td>\n",
       "      <td>0.0</td>\n",
       "      <td>0.0</td>\n",
       "      <td>...</td>\n",
       "      <td>0.0</td>\n",
       "      <td>0.0</td>\n",
       "      <td>0.0</td>\n",
       "      <td>0.0</td>\n",
       "      <td>0.0</td>\n",
       "      <td>0.0</td>\n",
       "      <td>0.0</td>\n",
       "      <td>0.0</td>\n",
       "      <td>0.0</td>\n",
       "      <td>0.0</td>\n",
       "    </tr>\n",
       "    <tr>\n",
       "      <th>4</th>\n",
       "      <td>25%</td>\n",
       "      <td>None</td>\n",
       "      <td>608</td>\n",
       "      <td>None</td>\n",
       "      <td>None</td>\n",
       "      <td>None</td>\n",
       "      <td>None</td>\n",
       "      <td>None</td>\n",
       "      <td>1611.0</td>\n",
       "      <td>23.8875</td>\n",
       "      <td>...</td>\n",
       "      <td>0.0</td>\n",
       "      <td>0.0</td>\n",
       "      <td>0.0</td>\n",
       "      <td>0.0</td>\n",
       "      <td>0.0</td>\n",
       "      <td>0.0</td>\n",
       "      <td>0.0</td>\n",
       "      <td>0.0</td>\n",
       "      <td>0.0</td>\n",
       "      <td>0.0</td>\n",
       "    </tr>\n",
       "    <tr>\n",
       "      <th>5</th>\n",
       "      <td>50%</td>\n",
       "      <td>None</td>\n",
       "      <td>719</td>\n",
       "      <td>None</td>\n",
       "      <td>None</td>\n",
       "      <td>None</td>\n",
       "      <td>None</td>\n",
       "      <td>None</td>\n",
       "      <td>3491.0</td>\n",
       "      <td>80.53333</td>\n",
       "      <td>...</td>\n",
       "      <td>0.0</td>\n",
       "      <td>0.0</td>\n",
       "      <td>0.0</td>\n",
       "      <td>0.0</td>\n",
       "      <td>0.0</td>\n",
       "      <td>0.0</td>\n",
       "      <td>0.0</td>\n",
       "      <td>0.0</td>\n",
       "      <td>0.0</td>\n",
       "      <td>0.0</td>\n",
       "    </tr>\n",
       "    <tr>\n",
       "      <th>6</th>\n",
       "      <td>75%</td>\n",
       "      <td>None</td>\n",
       "      <td>1083</td>\n",
       "      <td>None</td>\n",
       "      <td>None</td>\n",
       "      <td>None</td>\n",
       "      <td>None</td>\n",
       "      <td>None</td>\n",
       "      <td>7756.4</td>\n",
       "      <td>231.0</td>\n",
       "      <td>...</td>\n",
       "      <td>0.0</td>\n",
       "      <td>0.0</td>\n",
       "      <td>0.0</td>\n",
       "      <td>0.0</td>\n",
       "      <td>0.0</td>\n",
       "      <td>0.0</td>\n",
       "      <td>0.0</td>\n",
       "      <td>0.0</td>\n",
       "      <td>0.0</td>\n",
       "      <td>0.08580104</td>\n",
       "    </tr>\n",
       "    <tr>\n",
       "      <th>7</th>\n",
       "      <td>max</td>\n",
       "      <td>TfLRail</td>\n",
       "      <td>9846</td>\n",
       "      <td>WWRr</td>\n",
       "      <td>Woolwich Arsenal</td>\n",
       "      <td>Trams boarding / alighting</td>\n",
       "      <td>SUN</td>\n",
       "      <td>OUT</td>\n",
       "      <td>157088.0</td>\n",
       "      <td>7104.0</td>\n",
       "      <td>...</td>\n",
       "      <td>406.0</td>\n",
       "      <td>393.0</td>\n",
       "      <td>427.0</td>\n",
       "      <td>447.0</td>\n",
       "      <td>369.0</td>\n",
       "      <td>291.0</td>\n",
       "      <td>242.0</td>\n",
       "      <td>189.0</td>\n",
       "      <td>129.0</td>\n",
       "      <td>108.0</td>\n",
       "    </tr>\n",
       "  </tbody>\n",
       "</table>\n",
       "<p>8 rows × 111 columns</p>\n",
       "</div>"
      ],
      "text/plain": [
       "  summary     mode                 nlc    asc           station  \\\n",
       "0   count    17458               17458  17458             17458   \n",
       "1    mean     None  1852.8311375873525   None              None   \n",
       "2  stddev     None    2424.44910158847   None              None   \n",
       "3     min      DLR                 500   ABRd        Abbey Road   \n",
       "4     25%     None                 608   None              None   \n",
       "5     50%     None                 719   None              None   \n",
       "6     75%     None                1083   None              None   \n",
       "7     max  TfLRail                9846   WWRr  Woolwich Arsenal   \n",
       "\n",
       "                     coverage    day    dir               total  \\\n",
       "0                       17426  17458  17458               17458   \n",
       "1                        None   None   None   7775.084349474883   \n",
       "2                        None   None   None  13769.647893261645   \n",
       "3    DLR boarding / alighting    FRI     IN                 0.0   \n",
       "4                        None   None   None              1611.0   \n",
       "5                        None   None   None              3491.0   \n",
       "6                        None   None   None              7756.4   \n",
       "7  Trams boarding / alighting    SUN    OUT            157088.0   \n",
       "\n",
       "                early  ...           0230-0245           0245-0300  \\\n",
       "0               17458  ...               17458               17458   \n",
       "1   233.7227949993955  ...  1.9423187077557567  1.7743727803872151   \n",
       "2  468.22794749453533  ...  13.111663927029532  12.109944524839134   \n",
       "3                 0.0  ...                 0.0                 0.0   \n",
       "4             23.8875  ...                 0.0                 0.0   \n",
       "5            80.53333  ...                 0.0                 0.0   \n",
       "6               231.0  ...                 0.0                 0.0   \n",
       "7              7104.0  ...               406.0               393.0   \n",
       "\n",
       "            0300-0315           0315-0330           0330-0345  \\\n",
       "0               17458               17458               17458   \n",
       "1  1.7268301065414138   1.579161415969756   1.472104479321801   \n",
       "2  12.207975715277005  11.520009065235147  10.227679385395252   \n",
       "3                 0.0                 0.0                 0.0   \n",
       "4                 0.0                 0.0                 0.0   \n",
       "5                 0.0                 0.0                 0.0   \n",
       "6                 0.0                 0.0                 0.0   \n",
       "7               427.0               447.0               369.0   \n",
       "\n",
       "           0345-0400           0400-0415           0415-0430  \\\n",
       "0              17458               17458               17458   \n",
       "1  1.280100813380685  1.2375988085691374  1.0241150189025088   \n",
       "2  8.398657775338465   7.863147646917768   6.263068928113061   \n",
       "3                0.0                 0.0                 0.0   \n",
       "4                0.0                 0.0                 0.0   \n",
       "5                0.0                 0.0                 0.0   \n",
       "6                0.0                 0.0                 0.0   \n",
       "7              291.0               242.0               189.0   \n",
       "\n",
       "           0430-0445           0445-0500  \n",
       "0              17458               17458  \n",
       "1  1.078293438024498  1.3625567523147573  \n",
       "2  5.715258852086833   5.665110255652002  \n",
       "3                0.0                 0.0  \n",
       "4                0.0                 0.0  \n",
       "5                0.0                 0.0  \n",
       "6                0.0          0.08580104  \n",
       "7              129.0               108.0  \n",
       "\n",
       "[8 rows x 111 columns]"
      ]
     },
     "execution_count": 5,
     "metadata": {},
     "output_type": "execute_result"
    }
   ],
   "source": [
    "df.summary().toPandas() "
   ]
  },
  {
   "cell_type": "markdown",
   "metadata": {},
   "source": [
    "> ℹ️ **Instructions** ℹ️\n",
    ">\n",
    "> Generate histograms for the six numerical attributes found in the data to understand the distribution of values.\n",
    ">\n",
    ">*You may use as many coding cells as necessary.*"
   ]
  },
  {
   "cell_type": "code",
   "execution_count": 15,
   "metadata": {},
   "outputs": [
    {
     "data": {
      "text/html": [
       "<div>\n",
       "<style scoped>\n",
       "    .dataframe tbody tr th:only-of-type {\n",
       "        vertical-align: middle;\n",
       "    }\n",
       "\n",
       "    .dataframe tbody tr th {\n",
       "        vertical-align: top;\n",
       "    }\n",
       "\n",
       "    .dataframe thead th {\n",
       "        text-align: right;\n",
       "    }\n",
       "</style>\n",
       "<table border=\"1\" class=\"dataframe\">\n",
       "  <thead>\n",
       "    <tr style=\"text-align: right;\">\n",
       "      <th></th>\n",
       "      <th>total</th>\n",
       "      <th>early</th>\n",
       "      <th>am_peak</th>\n",
       "      <th>inter_peak</th>\n",
       "      <th>pm_peak</th>\n",
       "      <th>evening</th>\n",
       "      <th>late</th>\n",
       "    </tr>\n",
       "  </thead>\n",
       "  <tbody>\n",
       "    <tr>\n",
       "      <th>0</th>\n",
       "      <td>3701.899902</td>\n",
       "      <td>288.200012</td>\n",
       "      <td>1101.199951</td>\n",
       "      <td>1185.699951</td>\n",
       "      <td>824.200012</td>\n",
       "      <td>213.199997</td>\n",
       "      <td>89.400002</td>\n",
       "    </tr>\n",
       "    <tr>\n",
       "      <th>1</th>\n",
       "      <td>2489.416748</td>\n",
       "      <td>172.583328</td>\n",
       "      <td>520.166687</td>\n",
       "      <td>622.000000</td>\n",
       "      <td>920.000000</td>\n",
       "      <td>208.416672</td>\n",
       "      <td>46.250000</td>\n",
       "    </tr>\n",
       "    <tr>\n",
       "      <th>2</th>\n",
       "      <td>3198.307617</td>\n",
       "      <td>103.000000</td>\n",
       "      <td>472.692322</td>\n",
       "      <td>1063.923096</td>\n",
       "      <td>1126.461548</td>\n",
       "      <td>333.230774</td>\n",
       "      <td>99.000000</td>\n",
       "    </tr>\n",
       "  </tbody>\n",
       "</table>\n",
       "</div>"
      ],
      "text/plain": [
       "         total       early      am_peak   inter_peak      pm_peak     evening  \\\n",
       "0  3701.899902  288.200012  1101.199951  1185.699951   824.200012  213.199997   \n",
       "1  2489.416748  172.583328   520.166687   622.000000   920.000000  208.416672   \n",
       "2  3198.307617  103.000000   472.692322  1063.923096  1126.461548  333.230774   \n",
       "\n",
       "        late  \n",
       "0  89.400002  \n",
       "1  46.250000  \n",
       "2  99.000000  "
      ]
     },
     "execution_count": 15,
     "metadata": {},
     "output_type": "execute_result"
    }
   ],
   "source": [
    "todd_distr = df.select('early', 'am_peak', 'inter_peak', 'pm_peak', 'evening', 'late') \n",
    "todd_df = todd_distr.toPandas() \n",
    "\n",
    "todd_df.head(3) \n",
    "\n",
    "todd_total = df.select('total', 'early', 'am_peak', 'inter_peak', 'pm_peak', 'evening', 'late') \n",
    "todd_tl_df = todd_total.toPandas() \n",
    "\n",
    "todd_tl_df.head(3) "
   ]
  },
  {
   "cell_type": "code",
   "execution_count": 9,
   "metadata": {},
   "outputs": [
    {
     "data": {
      "text/plain": [
       "array([[<AxesSubplot:title={'center':'early'}>,\n",
       "        <AxesSubplot:title={'center':'am_peak'}>],\n",
       "       [<AxesSubplot:title={'center':'inter_peak'}>,\n",
       "        <AxesSubplot:title={'center':'pm_peak'}>],\n",
       "       [<AxesSubplot:title={'center':'evening'}>,\n",
       "        <AxesSubplot:title={'center':'late'}>]], dtype=object)"
      ]
     },
     "execution_count": 9,
     "metadata": {},
     "output_type": "execute_result"
    },
    {
     "data": {
      "image/png": "[encoded data removed]",
      "text/plain": [
       "<Figure size 1080x720 with 6 Axes>"
      ]
     },
     "metadata": {
      "needs_background": "light"
     },
     "output_type": "display_data"
    }
   ],
   "source": [
    "# Histogram View\n",
    "todd_df.hist(bins=30, figsize=(15, 10)) "
   ]
  },
  {
   "cell_type": "code",
   "execution_count": 16,
   "metadata": {},
   "outputs": [
    {
     "data": {
      "text/plain": [
       "<AxesSubplot:>"
      ]
     },
     "execution_count": 16,
     "metadata": {},
     "output_type": "execute_result"
    },
    {
     "data": {
      "image/png": "[encoded data removed]",
      "text/plain": [
       "<Figure size 432x288 with 1 Axes>"
      ]
     },
     "metadata": {
      "needs_background": "light"
     },
     "output_type": "display_data"
    }
   ],
   "source": [
    "todd_tl_df.plot.line(y='total', use_index=True) "
   ]
  },
  {
   "cell_type": "markdown",
   "metadata": {},
   "source": [
    "> ℹ️ **Instructions** ℹ️\n",
    ">\n",
    "> Investigate the **open** column to identify stocks that have open values greater than 2, and note any anomalies that you find in the data.\n",
    ">\n",
    ">*You may use as many coding cells as necessary.*"
   ]
  },
  {
   "cell_type": "code",
   "execution_count": 13,
   "metadata": {},
   "outputs": [
    {
     "name": "stdout",
     "output_type": "stream",
     "text": [
      "+-------------------+--------+--------+--------+--------+---------+-------+-----+\n",
      "|               date|    open|    high|     low|   close|adj_close| volume|stock|\n",
      "+-------------------+--------+--------+--------+--------+---------+-------+-----+\n",
      "|1962-07-09 00:00:00| 5.64705|5.707125|5.538915|5.707125| 1.356625|86500.0|   AA|\n",
      "|1962-06-21 00:00:00| 5.03829| 5.03829|4.938165|4.946175|1.1757424|66500.0|   AA|\n",
      "|1962-07-17 00:00:00|5.562945|5.562945| 5.40675| 5.40675|1.2852237|24500.0|   AA|\n",
      "|1962-06-15 00:00:00| 5.05431| 5.23854| 5.02227|  5.2065|1.2376224|96500.0|   AA|\n",
      "|1962-08-16 00:00:00|6.331905|   6.408|6.331905|6.363945|1.5203078|58500.0|   AA|\n",
      "|1962-06-18 00:00:00|  5.2065| 5.25456|5.122395| 5.25456|1.2490451|67900.0|   AA|\n",
      "|1962-06-22 00:00:00|4.906125|4.906125|4.721895|4.729905|1.1243328|42500.0|   AA|\n",
      "|1962-12-19 00:00:00|5.122395|5.338665|5.122395|5.306625|1.2748827|65900.0|   AA|\n",
      "|1962-08-29 00:00:00|5.939415|5.939415| 5.85531|5.939415|1.4188904|35900.0|   AA|\n",
      "|1962-12-27 00:00:00| 5.42277|5.522895| 5.42277| 5.42277|1.3027864|70500.0|   AA|\n",
      "+-------------------+--------+--------+--------+--------+---------+-------+-----+\n",
      "only showing top 10 rows\n",
      "\n"
     ]
    }
   ],
   "source": [
    "#TODO: Write your code here \n",
    "df.where(F.col('open')> 2).orderBy(F.col('stock')).show(10) "
   ]
  },
  {
   "cell_type": "code",
   "execution_count": 11,
   "metadata": {},
   "outputs": [
    {
     "name": "stdout",
     "output_type": "stream",
     "text": [
      "+-----+-----+\n",
      "|stock|count|\n",
      "+-----+-----+\n",
      "|   AA|  252|\n",
      "|ARNCA|   21|\n",
      "|   PG|   23|\n",
      "|  IBM|  252|\n",
      "| ARNC|  231|\n",
      "+-----+-----+\n",
      "\n"
     ]
    }
   ],
   "source": [
    "df.filter(df.open>2).groupBy(df.stock).count().show() "
   ]
  },
  {
   "cell_type": "markdown",
   "metadata": {},
   "source": [
    " ## 📔️**Notes** 📔️\n",
    "\n",
    " *Use this cell to note down any potential findings.*\n",
    "\n",
    " 1.\n",
    " 2.\n",
    "    ...\n",
    " "
   ]
  },
  {
   "cell_type": "markdown",
   "metadata": {},
   "source": [
    "> ℹ️ **Instructions** ℹ️\n",
    ">\n",
    "> Investigate **high**, **low**, **close**, and **adj_close** to determine if any stocks may be deviating from the normal ranges of the data set. Note down the stock(s) that you come across.\n",
    ">\n",
    ">*You may use as many coding cells as necessary.*"
   ]
  },
  {
   "cell_type": "code",
   "execution_count": 15,
   "metadata": {},
   "outputs": [
    {
     "name": "stdout",
     "output_type": "stream",
     "text": [
      "+-------------------+----+-------+-------+-------+----------+------+-----+\n",
      "|               date|open|   high|    low|  close| adj_close|volume|stock|\n",
      "+-------------------+----+-------+-------+-------+----------+------+-----+\n",
      "|1962-12-19 00:00:00| 0.0|  240.0|   null|  240.0|112.589325| 700.0|  NAV|\n",
      "|1962-01-12 00:00:00| 0.0|264.375|  260.0|264.375|118.235344|1300.0|  NAV|\n",
      "|1962-06-18 00:00:00| 0.0|  242.5| 233.75| 233.75|106.930336| 900.0|  NAV|\n",
      "|1962-07-03 00:00:00| 0.0|239.375|235.625| 236.25|108.073975|1600.0|  NAV|\n",
      "|1962-08-13 00:00:00| 0.0|231.875|  230.0|230.625|105.500786|1300.0|  NAV|\n",
      "|1962-11-12 00:00:00| 0.0|244.375| 236.25|244.375| 113.25212| 700.0|  NAV|\n",
      "|1962-12-27 00:00:00| 0.0|248.125|   null|248.125| 116.40094| 600.0|  NAV|\n",
      "|1962-03-15 00:00:00| 0.0| 278.75|276.875| 278.75| 126.00829|1200.0|  NAV|\n",
      "|1962-04-26 00:00:00| 0.0| 268.75|  265.0|  265.0| 119.79269| 200.0|  NAV|\n",
      "|1962-06-15 00:00:00| 0.0| 241.25|233.125|  240.0| 109.78941|1300.0|  NAV|\n",
      "+-------------------+----+-------+-------+-------+----------+------+-----+\n",
      "only showing top 10 rows\n",
      "\n",
      "+-----+-----+\n",
      "|stock|count|\n",
      "+-----+-----+\n",
      "|  NAV|  252|\n",
      "+-----+-----+\n",
      "\n"
     ]
    }
   ],
   "source": [
    "#TODO: Write your code here \n",
    "# Investigating for 'high' \n",
    "df.filter(df.high>53).orderBy(df.stock).show(10) \n",
    "\n",
    "df.filter(df.high>53).groupBy(df.stock).count().show() "
   ]
  },
  {
   "cell_type": "code",
   "execution_count": 17,
   "metadata": {},
   "outputs": [
    {
     "name": "stdout",
     "output_type": "stream",
     "text": [
      "+-------------------+----+-------+-------+-------+----------+------+-----+\n",
      "|               date|open|   high|    low|  close| adj_close|volume|stock|\n",
      "+-------------------+----+-------+-------+-------+----------+------+-----+\n",
      "|1962-02-19 00:00:00| 0.0|  280.0|276.875|279.375| 124.94374| 600.0|  NAV|\n",
      "|1962-02-14 00:00:00| 0.0|276.875|273.125| 273.75| 122.42809| 800.0|  NAV|\n",
      "|1962-02-13 00:00:00| 0.0|  277.5|  275.0| 276.25| 123.54612|1000.0|  NAV|\n",
      "|1962-02-26 00:00:00| 0.0|279.375| 276.25|279.375| 124.94374| 700.0|  NAV|\n",
      "|1962-02-06 00:00:00| 0.0|271.875|268.125| 271.25| 121.31004|1600.0|  NAV|\n",
      "|1962-02-02 00:00:00| 0.0| 266.25| 263.75| 266.25|119.073845| 800.0|  NAV|\n",
      "|1962-02-16 00:00:00| 0.0|  277.5|274.375|  277.5| 124.10516|1400.0|  NAV|\n",
      "|1962-02-27 00:00:00| 0.0|  280.0| 278.75|  280.0|  125.2233| 600.0|  NAV|\n",
      "|1962-02-12 00:00:00| 0.0| 276.25|274.375| 276.25| 123.54612| 700.0|  NAV|\n",
      "|1962-02-20 00:00:00| 0.0|  280.0|276.875|279.375| 124.94374|1000.0|  NAV|\n",
      "+-------------------+----+-------+-------+-------+----------+------+-----+\n",
      "only showing top 10 rows\n",
      "\n",
      "+-----+-----+\n",
      "|stock|count|\n",
      "+-----+-----+\n",
      "|  NAV|  232|\n",
      "+-----+-----+\n",
      "\n"
     ]
    }
   ],
   "source": [
    "# Investigating for 'low' \n",
    "df.filter(df.low>51).orderBy(df.stock).show(10) \n",
    "\n",
    "df.filter(df.low>51).groupBy(df.stock).count().show() "
   ]
  },
  {
   "cell_type": "code",
   "execution_count": 18,
   "metadata": {},
   "outputs": [
    {
     "name": "stdout",
     "output_type": "stream",
     "text": [
      "+-------------------+----+-------+-------+-------+----------+------+-----+\n",
      "|               date|open|   high|    low|  close| adj_close|volume|stock|\n",
      "+-------------------+----+-------+-------+-------+----------+------+-----+\n",
      "|1962-12-19 00:00:00| 0.0|  240.0|   null|  240.0|112.589325| 700.0|  NAV|\n",
      "|1962-01-12 00:00:00| 0.0|264.375|  260.0|264.375|118.235344|1300.0|  NAV|\n",
      "|1962-06-18 00:00:00| 0.0|  242.5| 233.75| 233.75|106.930336| 900.0|  NAV|\n",
      "|1962-07-03 00:00:00| 0.0|239.375|235.625| 236.25|108.073975|1600.0|  NAV|\n",
      "|1962-08-13 00:00:00| 0.0|231.875|  230.0|230.625|105.500786|1300.0|  NAV|\n",
      "|1962-11-12 00:00:00| 0.0|244.375| 236.25|244.375| 113.25212| 700.0|  NAV|\n",
      "|1962-12-27 00:00:00| 0.0|248.125|   null|248.125| 116.40094| 600.0|  NAV|\n",
      "|1962-03-15 00:00:00| 0.0| 278.75|276.875| 278.75| 126.00829|1200.0|  NAV|\n",
      "|1962-04-26 00:00:00| 0.0| 268.75|  265.0|  265.0| 119.79269| 200.0|  NAV|\n",
      "|1962-06-15 00:00:00| 0.0| 241.25|233.125|  240.0| 109.78941|1300.0|  NAV|\n",
      "+-------------------+----+-------+-------+-------+----------+------+-----+\n",
      "only showing top 10 rows\n",
      "\n",
      "+-----+-----+\n",
      "|stock|count|\n",
      "+-----+-----+\n",
      "|  NAV|  252|\n",
      "+-----+-----+\n",
      "\n"
     ]
    }
   ],
   "source": [
    "# Investigating for 'close' \n",
    "df.filter(df.close>53).orderBy(df.stock).show(10) \n",
    "\n",
    "df.filter(df.close>53).groupBy(df.stock).count().show() "
   ]
  },
  {
   "cell_type": "code",
   "execution_count": 19,
   "metadata": {},
   "outputs": [
    {
     "name": "stdout",
     "output_type": "stream",
     "text": [
      "+-------------------+----+-------+-------+-------+----------+------+-----+\n",
      "|               date|open|   high|    low|  close| adj_close|volume|stock|\n",
      "+-------------------+----+-------+-------+-------+----------+------+-----+\n",
      "|1962-02-19 00:00:00| 0.0|  280.0|276.875|279.375| 124.94374| 600.0|  NAV|\n",
      "|1962-02-14 00:00:00| 0.0|276.875|273.125| 273.75| 122.42809| 800.0|  NAV|\n",
      "|1962-02-13 00:00:00| 0.0|  277.5|  275.0| 276.25| 123.54612|1000.0|  NAV|\n",
      "|1962-02-26 00:00:00| 0.0|279.375| 276.25|279.375| 124.94374| 700.0|  NAV|\n",
      "|1962-02-06 00:00:00| 0.0|271.875|268.125| 271.25| 121.31004|1600.0|  NAV|\n",
      "|1962-02-02 00:00:00| 0.0| 266.25| 263.75| 266.25|119.073845| 800.0|  NAV|\n",
      "|1962-02-16 00:00:00| 0.0|  277.5|274.375|  277.5| 124.10516|1400.0|  NAV|\n",
      "|1962-02-27 00:00:00| 0.0|  280.0| 278.75|  280.0|  125.2233| 600.0|  NAV|\n",
      "|1962-02-12 00:00:00| 0.0| 276.25|274.375| 276.25| 123.54612| 700.0|  NAV|\n",
      "|1962-02-20 00:00:00| 0.0|  280.0|276.875|279.375| 124.94374|1000.0|  NAV|\n",
      "+-------------------+----+-------+-------+-------+----------+------+-----+\n",
      "only showing top 10 rows\n",
      "\n",
      "+-----+-----+\n",
      "|stock|count|\n",
      "+-----+-----+\n",
      "|  NAV|  252|\n",
      "+-----+-----+\n",
      "\n"
     ]
    }
   ],
   "source": [
    "# Investigating for 'adj_close' \n",
    "df.filter(df.adj_close>24).orderBy(df.stock).show(10) \n",
    "\n",
    "df.filter(df.adj_close>24).groupBy(df.stock).count().show() "
   ]
  },
  {
   "cell_type": "markdown",
   "metadata": {},
   "source": [
    " ## 📔️**Notes** 📔️\n",
    "\n",
    " *Use this cell to note down any potential findings.*\n",
    "\n",
    " 1.\n",
    " 2.\n",
    "    ..."
   ]
  },
  {
   "cell_type": "markdown",
   "metadata": {},
   "source": [
    "\n",
    "\n",
    "## Completeness\n",
    "\n",
    "Completeness is the proportion of stored data against the potential of “100% complete\". This is the degree to which the required data is in the dataset. \n",
    "\n",
    "Does the dataset have missing values, or if it is time-series data, does it have time period gaps? Has a bias been introduced that may change your assumptions or affect your results?\n",
    "\n",
    "Completeness issues can occur at the row level (gaps within the dataset) or the field level (one entry missing). At the field level, entire fields can being empty, or >80% of a field's data missing. \n",
    "\n",
    "Another issue that may occur is default values. A typical example of this is where a logger sends back a 0 instead of a null value, which can greatly skew any attempts at modelling. This is where it is instrumental to employ domain knowledge when assessing a dataset. \n",
    "\n",
    "- **Measured by**: A measure of the absence of blank (null) values or the presence of non-blank values;\n",
    "- **Units**: Percentage;\n",
    "- **Related to**: Validity and Accuracy."
   ]
  },
  {
   "cell_type": "markdown",
   "metadata": {},
   "source": [
    "### Missing values\n",
    "\n",
    "> ℹ️ **Instructions** ℹ️\n",
    ">\n",
    "> Write code to identify and count the number of missing values (nulls) in the dataset. Include a percentage to describe the proportion of missing values per column. Output the results in the following manner:\n",
    ">\n",
    "> `There are <number_of_missing_values> (<percentage>) null values in <column_name> column`\n",
    ">\n",
    ">*You may use as many coding cells as necessary.*"
   ]
  },
  {
   "cell_type": "code",
   "execution_count": 21,
   "metadata": {},
   "outputs": [
    {
     "name": "stdout",
     "output_type": "stream",
     "text": [
      "There are 0 (0.0%) null values in date column\n",
      "There are 0 (0.0%) null values in open column\n",
      "There are 0 (0.0%) null values in high column\n",
      "There are 42 (0.82%) null values in low column\n",
      "There are 0 (0.0%) null values in close column\n",
      "There are 21 (0.41%) null values in adj_close column\n",
      "There are 21 (0.41%) null values in volume column\n",
      "There are 0 (0.0%) null values in stock column\n"
     ]
    }
   ],
   "source": [
    "#TODO: Write your code here \n",
    "missing_vals = {}  # Dictionary to keep track of the results\n",
    "\n",
    "for column in df.columns:   #Loop through each column in df \n",
    "    ncount = df.where(df[column].isNull()).count()  #Null count in column x\n",
    "    tcount = df.select(df[column]).count()    #Total count of column x \n",
    "    print(f'There are {ncount} ({round(ncount/tcount*100, 2)}%) null values in {column} column') \n",
    "    missing_vals[f'{column}'] = ncount #Recording results in missing_count dictionary "
   ]
  },
  {
   "cell_type": "markdown",
   "metadata": {},
   "source": [
    "### Columns with missing values"
   ]
  },
  {
   "cell_type": "markdown",
   "metadata": {},
   "source": [
    "\n",
    "> ℹ️ **Instructions** ℹ️\n",
    ">\n",
    "> From the above result, probe the columns that are affected by the missing data to find out which stocks were affected.\n",
    ">\n",
    ">*You may use as many coding cells as necessary.*"
   ]
  },
  {
   "cell_type": "code",
   "execution_count": 30,
   "metadata": {},
   "outputs": [
    {
     "name": "stdout",
     "output_type": "stream",
     "text": [
      "+-------------------+---------+---------+----+---------+----------+--------+-----+\n",
      "|               date|     open|     high| low|    close| adj_close|  volume|stock|\n",
      "+-------------------+---------+---------+----+---------+----------+--------+-----+\n",
      "|1962-03-16 00:00:00|1.6458334|1.6614584|null|1.6614584|0.14271663| 79200.0|  CAT|\n",
      "|1962-03-09 00:00:00| 1.640625|1.6458334|null|1.6354166|0.14047968| 86400.0|  CAT|\n",
      "|1962-03-30 00:00:00|1.6822916| 1.703125|null| 1.703125|0.14629564| 86400.0|  CAT|\n",
      "|1962-03-15 00:00:00|1.6614584|1.6614584|null|1.6458334|0.14137442|139200.0|  CAT|\n",
      "|1962-03-07 00:00:00|1.6770834|1.6770834|null|  1.65625| 0.1422691|172800.0|  CAT|\n",
      "|1962-03-01 00:00:00|1.6822916| 1.703125|null|1.6822916|0.14450607| 74400.0|  CAT|\n",
      "|1962-03-23 00:00:00|1.6822916|1.6979166|null|1.6822916|0.14450607|189600.0|  CAT|\n",
      "|1962-03-02 00:00:00|1.6822916|   1.6875|null|   1.6875|0.14495347|105600.0|  CAT|\n",
      "|1962-03-28 00:00:00| 1.671875| 1.703125|null| 1.703125|0.14629564|146400.0|  CAT|\n",
      "|1962-03-08 00:00:00|  1.65625|1.6614584|null| 1.640625|  0.140927| 98400.0|  CAT|\n",
      "+-------------------+---------+---------+----+---------+----------+--------+-----+\n",
      "only showing top 10 rows\n",
      "\n",
      "+-----+-----+\n",
      "|stock|count|\n",
      "+-----+-----+\n",
      "|  JNJ|   21|\n",
      "|  CAT|   22|\n",
      "|   FL|   21|\n",
      "|  NAV|   20|\n",
      "+-----+-----+\n",
      "\n"
     ]
    }
   ],
   "source": [
    "#TODO: Write your code here \n",
    "df.filter(df.low.isNull() | df.adj_close.isNull() | df.volume.isNull()).orderBy(df.stock).show(10) \n",
    "\n",
    "df.filter(df.low.isNull() | df.adj_close.isNull() | df.volume.isNull()).groupBy(df.stock).count().show() "
   ]
  },
  {
   "cell_type": "markdown",
   "metadata": {},
   "source": [
    "#### Fix Completeness\n",
    "\n",
    "How do we deal with incomplete data?\n",
    "- Dropping missing values\n",
    "- Discard the incomplete column\n",
    "- Discard the rows containing missing data\n",
    "- Case deletion\n",
    "\n",
    "> ℹ️ **Instructions** ℹ️\n",
    ">\n",
    "> Use the appropriate strategy to remedy the missing data. \n",
    ">\n",
    ">*You may use as many coding cells as necessary.*"
   ]
  },
  {
   "cell_type": "code",
   "execution_count": 31,
   "metadata": {},
   "outputs": [
    {
     "name": "stdout",
     "output_type": "stream",
     "text": [
      "Missing values in low:\n",
      "+-----+-----+\n",
      "|stock|count|\n",
      "+-----+-----+\n",
      "+-----+-----+\n",
      "\n",
      "Missing values in adj_close:\n",
      "+-----+-----+\n",
      "|stock|count|\n",
      "+-----+-----+\n",
      "+-----+-----+\n",
      "\n",
      "Missing values in volume:\n",
      "+-----+-----+\n",
      "|stock|count|\n",
      "+-----+-----+\n",
      "+-----+-----+\n",
      "\n"
     ]
    }
   ],
   "source": [
    "#TODO: Write your code here \n",
    "df = df.na.drop() \n",
    "\n",
    "for column in ['low', 'adj_close', 'volume']: \n",
    "    print(f'Missing values in {column}:') \n",
    "    df.select('stock', column).filter(df[column].isNull()).groupBy('stock').count().show() "
   ]
  },
  {
   "cell_type": "code",
   "execution_count": 33,
   "metadata": {},
   "outputs": [
    {
     "name": "stdout",
     "output_type": "stream",
     "text": [
      "+-----+-----+\n",
      "|stock|count|\n",
      "+-----+-----+\n",
      "|   AA|  252|\n",
      "|  XOM|  252|\n",
      "|  DIS|  252|\n",
      "|ARNCA|   21|\n",
      "|   PG|  252|\n",
      "|   GT|  252|\n",
      "|   MO|  252|\n",
      "|  IBM|  252|\n",
      "|  JNJ|  231|\n",
      "|  CVX|  252|\n",
      "+-----+-----+\n",
      "only showing top 10 rows\n",
      "\n"
     ]
    }
   ],
   "source": [
    "df.groupBy(df.stock).count().show(10) "
   ]
  },
  {
   "cell_type": "markdown",
   "metadata": {},
   "source": [
    "### Zero Values\n",
    "\n",
    "Take a deeper look into the entries with many zero values."
   ]
  },
  {
   "cell_type": "markdown",
   "metadata": {},
   "source": [
    "#### Fix Completeness\n",
    "\n",
    "Completeness issues can be fixed through imputation of the missing data through:\n",
    "- imputation by mean/mode/median;\n",
    "- regression; or\n",
    "- KNN.\n",
    " \n",
    "> ℹ️ **Instructions** ℹ️\n",
    ">\n",
    "> Write code to identify and count the number of zeros (0) in the dataset. Include a percentage to describe the proportion of missing values per column. Output the results in the following manner:\n",
    ">\n",
    "> `There are <number_of_zeros> (<percentage>) zero values in <column_name> column`\n",
    ">\n",
    ">*You may use as many coding cells as necessary.*"
   ]
  },
  {
   "cell_type": "code",
   "execution_count": 35,
   "metadata": {},
   "outputs": [
    {
     "name": "stdout",
     "output_type": "stream",
     "text": [
      "The are 2706 (53.883%) zero values in open column \n",
      "The are 20 (0.398%) zero values in high column \n",
      "The are 0 (0.0%) zero values in low column \n",
      "The are 0 (0.0%) zero values in close column \n",
      "The are 0 (0.0%) zero values in adj_close column \n",
      "The are 27 (0.538%) zero values in volume column \n"
     ]
    }
   ],
   "source": [
    "#TODO: Write your code here \n",
    "cols = ['open', 'high', 'low', 'close', 'adj_close', 'volume',] \n",
    "\n",
    "for col in cols: \n",
    "  zcount = df.where(df[col]==0).count() \n",
    "  t_count = df.select(df[col]).count() \n",
    "  print(f\"The are {zcount} ({round(zcount/t_count*100, 3)}%) zero values in {col} column \") "
   ]
  },
  {
   "cell_type": "markdown",
   "metadata": {},
   "source": [
    "From the above section, you find that there are a few columns that contain zero values. However, some of these are true zeros and are explainable. Your task is to distinguish which column should undergo data imputation.\n",
    "\n",
    "> ℹ️ **Instructions** ℹ️\n",
    ">\n",
    "> Investigate the columns with zero values and determine which one should undergo data imputation. Take note of the stock and month on which zero values occurred.\n",
    ">\n",
    ">*You may use as many coding cells as necessary.*"
   ]
  },
  {
   "cell_type": "code",
   "execution_count": 36,
   "metadata": {},
   "outputs": [
    {
     "name": "stdout",
     "output_type": "stream",
     "text": [
      "+-------------------+---------+----+---------+---------+----------+--------+-----+\n",
      "|               date|     open|high|      low|    close| adj_close|  volume|stock|\n",
      "+-------------------+---------+----+---------+---------+----------+--------+-----+\n",
      "|1962-11-05 00:00:00|1.4114584| 0.0|1.4114584|   1.4375|0.12620474|172800.0|  CAT|\n",
      "|1962-11-12 00:00:00| 1.453125| 0.0|1.4427084|1.4583334|0.12803373| 96000.0|  CAT|\n",
      "|1962-11-08 00:00:00|1.4583334| 0.0|1.4427084|1.4583334|0.12803373|129600.0|  CAT|\n",
      "|1962-11-01 00:00:00|1.3697916| 0.0|1.3697916|1.4010416| 0.1230039|136800.0|  CAT|\n",
      "|1962-11-29 00:00:00|1.5052084| 0.0|1.5052084|1.5052084|0.13214913|132000.0|  CAT|\n",
      "|1962-11-28 00:00:00|      1.5| 0.0|1.4947916|1.5052084|0.13214913|177600.0|  CAT|\n",
      "|1962-11-30 00:00:00|1.5052084| 0.0|1.5052084|1.5052084|0.13214913|124800.0|  CAT|\n",
      "|1962-11-26 00:00:00|      1.5| 0.0|1.4947916|      1.5|0.13169187|187200.0|  CAT|\n",
      "|1962-11-02 00:00:00|1.4010416| 0.0|1.3958334|1.4114584|0.12391846|211200.0|  CAT|\n",
      "|1962-11-21 00:00:00|      1.5| 0.0|1.4947916|      1.5|0.13169187|105600.0|  CAT|\n",
      "+-------------------+---------+----+---------+---------+----------+--------+-----+\n",
      "only showing top 10 rows\n",
      "\n",
      "+-----+-----+\n",
      "|stock|count|\n",
      "+-----+-----+\n",
      "|  CAT|   20|\n",
      "+-----+-----+\n",
      "\n"
     ]
    }
   ],
   "source": [
    "#TODO: Write your code here \n",
    "df.filter(df.high == 0).orderBy(df.stock).show(10) \n",
    "\n",
    "df.filter(df.high == 0).groupBy(df.stock).count().show() "
   ]
  },
  {
   "cell_type": "code",
   "execution_count": 38,
   "metadata": {},
   "outputs": [
    {
     "name": "stdout",
     "output_type": "stream",
     "text": [
      "+-------------------+----------+----------+----------+----------+------------+------+-----+\n",
      "|               date|      open|      high|       low|     close|   adj_close|volume|stock|\n",
      "+-------------------+----------+----------+----------+----------+------------+------+-----+\n",
      "|1962-11-09 00:00:00|0.69736576|0.69736576|0.69736576|0.69736576|0.0016955283|   0.0|   GE|\n",
      "|1962-04-17 00:00:00|       0.0|   0.21875| 0.2175926|   0.21875|6.1658733E-7|   0.0|  JNJ|\n",
      "|1962-09-28 00:00:00|       0.0|0.15914352| 0.1574074|0.15914352| 4.514184E-7|   0.0|  JNJ|\n",
      "|1962-10-15 00:00:00|       0.0|0.15856482|0.15856482|0.15856482|4.4977733E-7|   0.0|  JNJ|\n",
      "|1962-01-02 00:00:00|       0.0|0.22337963|0.22222222|0.22337963| 6.281419E-7|   0.0|  JNJ|\n",
      "|1962-05-09 00:00:00|       0.0| 1.6953125| 1.6796875|    1.6875| 0.015208395|   0.0|  XOM|\n",
      "|1962-05-22 00:00:00|       0.0| 1.6601562| 1.6289062|  1.640625| 0.014785934|   0.0|  XOM|\n",
      "|1962-05-04 00:00:00|       0.0| 1.7226562| 1.7109375|   1.71875|0.0153206745|   0.0|  XOM|\n",
      "|1962-05-18 00:00:00|       0.0| 1.6679688| 1.6484375| 1.6679688| 0.015032374|   0.0|  XOM|\n",
      "|1962-05-24 00:00:00|       0.0| 1.6328125| 1.6171875| 1.6289062|  0.01468032|   0.0|  XOM|\n",
      "+-------------------+----------+----------+----------+----------+------------+------+-----+\n",
      "only showing top 10 rows\n",
      "\n",
      "+-----+-----+\n",
      "|stock|count|\n",
      "+-----+-----+\n",
      "|  XOM|   22|\n",
      "|  JNJ|    4|\n",
      "|   GE|    1|\n",
      "+-----+-----+\n",
      "\n"
     ]
    }
   ],
   "source": [
    "df.filter(df.volume == 0).orderBy(df.stock).show(10) \n",
    "\n",
    "df.filter(df.volume == 0).groupBy(df.stock).count().show() "
   ]
  },
  {
   "cell_type": "code",
   "execution_count": 42,
   "metadata": {},
   "outputs": [
    {
     "name": "stdout",
     "output_type": "stream",
     "text": [
      "+-------------------+----+---------+----+---------+-----------+--------+-----+\n",
      "|               date|open|     high| low|    close|  adj_close|  volume|stock|\n",
      "+-------------------+----+---------+----+---------+-----------+--------+-----+\n",
      "|1962-02-02 00:00:00| 0.0| 3.452381|20.0| 3.452381|0.054961324|508800.0|  CVX|\n",
      "|1962-02-09 00:00:00| 0.0| 3.482143|20.0|3.4747024|0.055316698|158400.0|  CVX|\n",
      "|1962-02-19 00:00:00| 0.0| 3.578869|20.0| 3.549107|0.056501225|273600.0|  CVX|\n",
      "|1962-02-26 00:00:00| 0.0|3.5193453|20.0| 3.482143|0.055435114|158400.0|  CVX|\n",
      "|1962-02-06 00:00:00| 0.0|3.3854167|20.0|3.3630953|0.053539913|145600.0|  CVX|\n",
      "|1962-02-14 00:00:00| 0.0|3.4970238|20.0|3.4970238|0.055672023|116800.0|  CVX|\n",
      "|1962-02-13 00:00:00| 0.0|3.5044644|20.0|3.5044644|0.055790514|240000.0|  CVX|\n",
      "|1962-02-16 00:00:00| 0.0| 3.549107|20.0|3.5416667|0.056382727|155200.0|  CVX|\n",
      "|1962-02-27 00:00:00| 0.0|3.5119047|20.0|3.5119047| 0.05590893|294400.0|  CVX|\n",
      "|1962-02-12 00:00:00| 0.0|3.5267856|20.0|3.5119047| 0.05590893|126400.0|  CVX|\n",
      "+-------------------+----+---------+----+---------+-----------+--------+-----+\n",
      "only showing top 10 rows\n",
      "\n",
      "+-----+-----+\n",
      "|stock|count|\n",
      "+-----+-----+\n",
      "|  XOM|  252|\n",
      "|   PG|  229|\n",
      "|   GT|  252|\n",
      "|   MO|  252|\n",
      "|  JNJ|  231|\n",
      "+-----+-----+\n",
      "only showing top 5 rows\n",
      "\n"
     ]
    }
   ],
   "source": [
    "df.filter(df.open == 0).orderBy(df.stock).show(10) \n",
    "\n",
    "df.filter(df.open == 0).groupBy(df.stock).count().show(5) "
   ]
  },
  {
   "cell_type": "markdown",
   "metadata": {},
   "source": [
    "> ℹ️ **Instructions** ℹ️\n",
    ">\n",
    "> Once you have identified the column that needs to undergo imputation, update the values for the affected records by using the average value for the affected stock.\n",
    ">\n",
    ">*You may use as many coding cells as necessary.*"
   ]
  },
  {
   "cell_type": "code",
   "execution_count": 43,
   "metadata": {},
   "outputs": [
    {
     "data": {
      "text/plain": [
       "0"
      ]
     },
     "execution_count": 43,
     "metadata": {},
     "output_type": "execute_result"
    }
   ],
   "source": [
    "#TODO: Write your code here \n",
    "df = df.withColumn('open',F.when(F.col('open')==0, df.agg(F.avg('open')).collect()[0][0]).otherwise(F.col('open'))) \n",
    "\n",
    "df.where(df.open == 0).count() "
   ]
  },
  {
   "cell_type": "code",
   "execution_count": 44,
   "metadata": {},
   "outputs": [
    {
     "data": {
      "text/plain": [
       "0"
      ]
     },
     "execution_count": 44,
     "metadata": {},
     "output_type": "execute_result"
    }
   ],
   "source": [
    "df = df.withColumn('high',F.when(F.col('high')==0, df.agg(F.avg('high')).collect()[0][0]).otherwise(F.col('high'))) \n",
    "\n",
    "df.where(df.high == 0).count() "
   ]
  },
  {
   "cell_type": "markdown",
   "metadata": {},
   "source": [
    "\n",
    "## Consistency\n",
    "\n",
    "Consistency is the absence of difference when comparing two or more representations of a thing against a reference.\n",
    "\n",
    "Data entries that refer to the same record or entity have to be consistent across all entries, e.g., if you are dealing with records from a logger in the field, the entries for that logger have to remain consistent, and the name or primary key of that logger cannot change from one entry to another. \n",
    "\n",
    "For example, 'Logger1', 'Loger1' and 'Logge1' are examples of inconsistent keys. \n",
    "\n",
    "This is not just within a single table but also becomes more important if you are dealing with relational data. In which case, the mappings between tables and systems must be consistent. If not, the relationships will be completely lost between the tables and referential integrity compromised. \n",
    "\n",
    "- **Measured by**: Analysis of pattern and/or value frequency;\n",
    "- **Units**: Percentage;\n",
    "- **Related to**: Accuracy, Validity, and Uniqueness."
   ]
  },
  {
   "cell_type": "markdown",
   "metadata": {},
   "source": [
    "> ℹ️ **Instructions** ℹ️\n",
    ">\n",
    "> There currently exists a stock that has inconsistent naming. Make use of the metadata to determine which stock is inconsistently named, then update the dataframe appropriately to get rid of this inconsistency.\n",
    ">\n",
    ">*You may use as many coding cells as necessary.*"
   ]
  },
  {
   "cell_type": "code",
   "execution_count": 47,
   "metadata": {},
   "outputs": [
    {
     "data": {
      "text/plain": [
       "['ARNCA']"
      ]
     },
     "execution_count": 47,
     "metadata": {},
     "output_type": "execute_result"
    }
   ],
   "source": [
    "#TODO: Write your code here \n",
    "list(set(df.select('stock').rdd.flatMap(lambda x: x).collect())-set(meta.select('symbol').rdd.flatMap(lambda x: x).collect())) "
   ]
  },
  {
   "cell_type": "code",
   "execution_count": 48,
   "metadata": {},
   "outputs": [
    {
     "data": {
      "text/plain": [
       "21"
      ]
     },
     "execution_count": 48,
     "metadata": {},
     "output_type": "execute_result"
    }
   ],
   "source": [
    "df.where(df.stock == 'ARNCA').count() "
   ]
  },
  {
   "cell_type": "code",
   "execution_count": 49,
   "metadata": {},
   "outputs": [
    {
     "data": {
      "text/html": [
       "<div>\n",
       "<style scoped>\n",
       "    .dataframe tbody tr th:only-of-type {\n",
       "        vertical-align: middle;\n",
       "    }\n",
       "\n",
       "    .dataframe tbody tr th {\n",
       "        vertical-align: top;\n",
       "    }\n",
       "\n",
       "    .dataframe thead th {\n",
       "        text-align: right;\n",
       "    }\n",
       "</style>\n",
       "<table border=\"1\" class=\"dataframe\">\n",
       "  <thead>\n",
       "    <tr style=\"text-align: right;\">\n",
       "      <th></th>\n",
       "      <th>Nasdaq Traded</th>\n",
       "      <th>Symbol</th>\n",
       "      <th>Security Name</th>\n",
       "      <th>Listing Exchange</th>\n",
       "      <th>Market Category</th>\n",
       "      <th>ETF</th>\n",
       "      <th>Round Lot Size</th>\n",
       "      <th>Test Issue</th>\n",
       "      <th>Financial Status</th>\n",
       "      <th>CQS Symbol</th>\n",
       "      <th>NASDAQ Symbol</th>\n",
       "      <th>NextShares</th>\n",
       "    </tr>\n",
       "  </thead>\n",
       "  <tbody>\n",
       "    <tr>\n",
       "      <th>0</th>\n",
       "      <td>Y</td>\n",
       "      <td>ARNA</td>\n",
       "      <td>Arena Pharmaceuticals, Inc. - Common Stock</td>\n",
       "      <td>Q</td>\n",
       "      <td>Q</td>\n",
       "      <td>N</td>\n",
       "      <td>100.0</td>\n",
       "      <td>N</td>\n",
       "      <td>N</td>\n",
       "      <td>None</td>\n",
       "      <td>ARNA</td>\n",
       "      <td>N</td>\n",
       "    </tr>\n",
       "    <tr>\n",
       "      <th>1</th>\n",
       "      <td>Y</td>\n",
       "      <td>ARNC</td>\n",
       "      <td>Arconic Corporation Common Stock</td>\n",
       "      <td>N</td>\n",
       "      <td></td>\n",
       "      <td>N</td>\n",
       "      <td>100.0</td>\n",
       "      <td>N</td>\n",
       "      <td>None</td>\n",
       "      <td>ARNC</td>\n",
       "      <td>ARNC</td>\n",
       "      <td>N</td>\n",
       "    </tr>\n",
       "  </tbody>\n",
       "</table>\n",
       "</div>"
      ],
      "text/plain": [
       "  Nasdaq Traded Symbol                               Security Name  \\\n",
       "0             Y   ARNA  Arena Pharmaceuticals, Inc. - Common Stock   \n",
       "1             Y   ARNC           Arconic Corporation Common Stock    \n",
       "\n",
       "  Listing Exchange Market Category ETF Round Lot Size Test Issue  \\\n",
       "0                Q               Q   N          100.0          N   \n",
       "1                N                   N          100.0          N   \n",
       "\n",
       "  Financial Status CQS Symbol NASDAQ Symbol NextShares  \n",
       "0                N       None          ARNA          N  \n",
       "1             None       ARNC          ARNC          N  "
      ]
     },
     "execution_count": 49,
     "metadata": {},
     "output_type": "execute_result"
    }
   ],
   "source": [
    "#checking the correct name for the stock\n",
    "meta.createOrReplaceTempView(\"metadata\") \n",
    "\n",
    "spark.sql(\"select * from metadata where symbol like 'ARN%'\").toPandas() "
   ]
  },
  {
   "cell_type": "code",
   "execution_count": 50,
   "metadata": {},
   "outputs": [
    {
     "name": "stdout",
     "output_type": "stream",
     "text": [
      "+-----+-----+\n",
      "|stock|count|\n",
      "+-----+-----+\n",
      "| ARNC|  252|\n",
      "+-----+-----+\n",
      "\n"
     ]
    }
   ],
   "source": [
    "#Replacing the stock with the correct name \n",
    "df = df.withColumn('stock', F.when(F.col('stock')=='ARNCA', 'ARNC').otherwise(F.col(\"stock\"))) \n",
    "\n",
    "df.filter(df.stock == 'ARNC').groupBy(df.stock).count().show() "
   ]
  },
  {
   "cell_type": "markdown",
   "metadata": {},
   "source": [
    "## Timeliness\n",
    "\n",
    "Timeliness is the degree to which data represent reality from the required point in time.\n",
    "\n",
    "Timeliness expects that the data within your dataset is sufficiently up to date. If you are trying to answer questions that relate to recent problems, having timely data is extremely important. For example, you cannot use current flight patterns to model how many aeroplanes will be required by a large aeronautics company within the next 5-10 years. \n",
    "\n",
    "Similarly, when answering questions that require real-time answers (e.g., predicting when a pipe will burst in a manufacturing plant), you have to be set up to receive real-time data from sensors and loggers. \n",
    "\n",
    "- **Measured by**: Time difference;\n",
    "- **Units**: Time;\n",
    "- **Related to**: Accuracy because it will decay as time progress. "
   ]
  },
  {
   "cell_type": "markdown",
   "metadata": {},
   "source": [
    "It is important to see the latest value for each of the stocks that we are looking at:"
   ]
  },
  {
   "cell_type": "code",
   "execution_count": 44,
   "metadata": {},
   "outputs": [
    {
     "name": "stdout",
     "output_type": "stream",
     "text": [
      "+-----+----------+\n",
      "|stock| max(Date)|\n",
      "+-----+----------+\n",
      "|   AA|1962-12-31|\n",
      "|  XOM|1962-12-31|\n",
      "|  DIS|1962-12-31|\n",
      "|   PG|1962-12-31|\n",
      "|   GT|1962-12-31|\n",
      "|   MO|1962-12-31|\n",
      "|  IBM|1962-12-31|\n",
      "|  JNJ|1962-12-31|\n",
      "|  CVX|1962-12-31|\n",
      "|  DTE|1962-12-31|\n",
      "|   BA|1962-12-31|\n",
      "|   GE|1962-12-31|\n",
      "|  HPQ|1962-12-31|\n",
      "| ARNC|1962-12-31|\n",
      "|  CAT|1962-12-31|\n",
      "|   IP|1962-12-31|\n",
      "|   FL|1962-12-31|\n",
      "|   ED|1962-12-31|\n",
      "|  NAV|1962-12-31|\n",
      "|   KO|1962-12-31|\n",
      "+-----+----------+\n",
      "\n"
     ]
    }
   ],
   "source": [
    "df.groupBy('stock').agg(F.max('Date')).show() "
   ]
  },
  {
   "cell_type": "markdown",
   "metadata": {},
   "source": [
    "Sometimes, some of these axes of data quality will be less important than others. \n",
    "This is one of those cases where it is less important to have timely data, since \n",
    "we are trying to create a training dataset for a stock market prediction algorithm. \n",
    "\n",
    "It is important to know the context in which you are doing your modelling. "
   ]
  },
  {
   "cell_type": "markdown",
   "metadata": {},
   "source": [
    "### Gaps in the dataset\n",
    "\n",
    "Let's see if we can find inconsistencies in the time series by having a look at the number of entries for each of the tickers.\n",
    " \n",
    "> ℹ️ **Instructions** ℹ️\n",
    ">\n",
    "> Uncomment and use the below code to determine which dates had entries that were not equal to 20. You may have to change the name of the dataframe to see the resultant output\n",
    ">\n",
    ">*You may use as many coding cells as necessary.*"
   ]
  },
  {
   "cell_type": "code",
   "execution_count": 51,
   "metadata": {},
   "outputs": [
    {
     "name": "stdout",
     "output_type": "stream",
     "text": [
      "+-------------------+-----+\n",
      "|               date|count|\n",
      "+-------------------+-----+\n",
      "|1962-02-19 00:00:00|   23|\n",
      "|1962-02-26 00:00:00|   23|\n",
      "|1962-06-07 00:00:00|   19|\n",
      "|1962-09-05 00:00:00|   21|\n",
      "|1962-02-23 00:00:00|   23|\n",
      "|1962-09-14 00:00:00|   21|\n",
      "|1962-02-07 00:00:00|   23|\n",
      "|1962-06-12 00:00:00|   19|\n",
      "|1962-03-19 00:00:00|   19|\n",
      "|1962-09-24 00:00:00|   21|\n",
      "|1962-02-12 00:00:00|   23|\n",
      "|1962-02-20 00:00:00|   23|\n",
      "|1962-02-02 00:00:00|   23|\n",
      "|1962-07-25 00:00:00|   19|\n",
      "|1962-03-14 00:00:00|   19|\n",
      "|1962-09-18 00:00:00|   21|\n",
      "|1962-09-12 00:00:00|   21|\n",
      "|1962-12-18 00:00:00|   19|\n",
      "|1962-12-20 00:00:00|   19|\n",
      "|1962-09-20 00:00:00|   21|\n",
      "|1962-03-22 00:00:00|   19|\n",
      "|1962-09-28 00:00:00|   21|\n",
      "|1962-12-21 00:00:00|   19|\n",
      "|1962-09-04 00:00:00|   21|\n",
      "|1962-09-21 00:00:00|   21|\n",
      "|1962-12-03 00:00:00|   19|\n",
      "|1962-03-20 00:00:00|   19|\n",
      "|1962-09-11 00:00:00|   21|\n",
      "|1962-02-05 00:00:00|   23|\n",
      "|1962-09-25 00:00:00|   21|\n",
      "|1962-09-06 00:00:00|   21|\n",
      "|1962-02-13 00:00:00|   23|\n",
      "|1962-02-21 00:00:00|   23|\n",
      "|1962-09-19 00:00:00|   21|\n",
      "|1962-06-06 00:00:00|   19|\n",
      "|1962-09-26 00:00:00|   21|\n",
      "|1962-02-15 00:00:00|   23|\n",
      "|1962-02-27 00:00:00|   23|\n",
      "|1962-12-28 00:00:00|   19|\n",
      "|1962-07-20 00:00:00|   19|\n",
      "|1962-02-06 00:00:00|   23|\n",
      "|1962-09-17 00:00:00|   21|\n",
      "|1962-09-27 00:00:00|   21|\n",
      "|1962-12-31 00:00:00|   19|\n",
      "|1962-02-16 00:00:00|   23|\n",
      "|1962-09-13 00:00:00|   21|\n",
      "|1962-09-07 00:00:00|   21|\n",
      "|1962-02-28 00:00:00|   23|\n",
      "|1962-02-14 00:00:00|   23|\n",
      "|1962-02-09 00:00:00|   23|\n",
      "|1962-02-01 00:00:00|   23|\n",
      "|1962-02-08 00:00:00|   23|\n",
      "|1962-09-10 00:00:00|   21|\n",
      "|1962-06-11 00:00:00|   19|\n",
      "|1962-03-15 00:00:00|   19|\n",
      "|1962-06-20 00:00:00|   19|\n",
      "|1962-03-16 00:00:00|   19|\n",
      "|1962-07-19 00:00:00|   19|\n",
      "|1962-06-08 00:00:00|   19|\n",
      "|1962-07-03 00:00:00|   19|\n",
      "|1962-03-28 00:00:00|   19|\n",
      "|1962-06-05 00:00:00|   19|\n",
      "|1962-07-23 00:00:00|   19|\n",
      "|1962-07-30 00:00:00|   19|\n",
      "|1962-12-13 00:00:00|   18|\n",
      "|1962-06-14 00:00:00|   19|\n",
      "|1962-07-31 00:00:00|   19|\n",
      "|1962-03-06 00:00:00|   19|\n",
      "|1962-03-13 00:00:00|   19|\n",
      "|1962-12-06 00:00:00|   18|\n",
      "|1962-03-05 00:00:00|   19|\n",
      "|1962-07-27 00:00:00|   19|\n",
      "|1962-06-27 00:00:00|   19|\n",
      "|1962-06-21 00:00:00|   19|\n",
      "|1962-06-25 00:00:00|   19|\n",
      "|1962-03-21 00:00:00|   19|\n",
      "|1962-07-16 00:00:00|   19|\n",
      "|1962-07-06 00:00:00|   19|\n",
      "|1962-12-04 00:00:00|   18|\n",
      "|1962-03-26 00:00:00|   19|\n",
      "|1962-07-11 00:00:00|   19|\n",
      "|1962-07-26 00:00:00|   19|\n",
      "|1962-06-29 00:00:00|   19|\n",
      "|1962-03-01 00:00:00|   19|\n",
      "|1962-12-24 00:00:00|   19|\n",
      "|1962-07-09 00:00:00|   19|\n",
      "|1962-03-12 00:00:00|   19|\n",
      "|1962-06-18 00:00:00|   19|\n",
      "|1962-12-10 00:00:00|   18|\n",
      "|1962-12-14 00:00:00|   18|\n",
      "|1962-12-12 00:00:00|   18|\n",
      "|1962-06-28 00:00:00|   19|\n",
      "|1962-12-17 00:00:00|   18|\n",
      "|1962-03-02 00:00:00|   19|\n",
      "|1962-07-18 00:00:00|   19|\n",
      "|1962-07-10 00:00:00|   19|\n",
      "|1962-12-26 00:00:00|   19|\n",
      "|1962-07-05 00:00:00|   19|\n",
      "|1962-03-23 00:00:00|   19|\n",
      "|1962-03-27 00:00:00|   19|\n",
      "|1962-03-29 00:00:00|   19|\n",
      "|1962-12-07 00:00:00|   18|\n",
      "|1962-06-13 00:00:00|   19|\n",
      "|1962-12-11 00:00:00|   18|\n",
      "|1962-07-24 00:00:00|   19|\n",
      "|1962-03-08 00:00:00|   19|\n",
      "|1962-03-09 00:00:00|   19|\n",
      "|1962-03-30 00:00:00|   19|\n",
      "|1962-06-01 00:00:00|   19|\n",
      "|1962-06-26 00:00:00|   19|\n",
      "|1962-06-19 00:00:00|   19|\n",
      "|1962-07-13 00:00:00|   19|\n",
      "|1962-12-19 00:00:00|   19|\n",
      "|1962-06-22 00:00:00|   19|\n",
      "|1962-07-02 00:00:00|   19|\n",
      "|1962-07-17 00:00:00|   19|\n",
      "|1962-07-12 00:00:00|   19|\n",
      "|1962-06-04 00:00:00|   19|\n",
      "|1962-03-07 00:00:00|   19|\n",
      "|1962-06-15 00:00:00|   19|\n",
      "|1962-12-27 00:00:00|   19|\n",
      "|1962-12-05 00:00:00|   18|\n",
      "+-------------------+-----+\n",
      "\n"
     ]
    }
   ],
   "source": [
    "df.orderBy('date').groupby('date').count().where(F.col('count') != 20).show(400) "
   ]
  },
  {
   "cell_type": "markdown",
   "metadata": {},
   "source": [
    "> ℹ️ **Instructions** ℹ️\n",
    ">\n",
    "> From the above result, investigate the number of times a stock appears for the given month. You can infer the months by using the output of the previous cell.\n",
    ">\n",
    ">*You may use as many coding cells as necessary.*"
   ]
  },
  {
   "cell_type": "code",
   "execution_count": 52,
   "metadata": {},
   "outputs": [
    {
     "name": "stdout",
     "output_type": "stream",
     "text": [
      "+-----------+-----+-----+\n",
      "|month(date)|stock|count|\n",
      "+-----------+-----+-----+\n",
      "|          1|   GE|   22|\n",
      "|          1|   ED|   22|\n",
      "|          1|  XOM|   22|\n",
      "|          1|  DTE|   22|\n",
      "|          1|   KO|   22|\n",
      "|          1|   BA|   22|\n",
      "|          1| ARNC|   22|\n",
      "|          1|  JNJ|   22|\n",
      "|          1|  CAT|   22|\n",
      "|          1|   MO|   22|\n",
      "|          1|   GT|   22|\n",
      "|          1|   FL|   22|\n",
      "|          1|  NAV|   22|\n",
      "|          1|  IBM|   22|\n",
      "|          1|  CVX|   22|\n",
      "|          1|   PG|   22|\n",
      "|          1|   IP|   22|\n",
      "|          1|  DIS|   22|\n",
      "|          1|  HPQ|   22|\n",
      "|          1|   AA|   22|\n",
      "|          2|   GE|   19|\n",
      "|          2|  DTE|   19|\n",
      "|          2|   BA|   19|\n",
      "|          2|   GT|   19|\n",
      "|          2|   IP|   19|\n",
      "|          2|   FL|   19|\n",
      "|          2|  CVX|   19|\n",
      "|          2|  HPQ|   76|\n",
      "|          2|  XOM|   19|\n",
      "|          2| ARNC|   19|\n",
      "|          2|   ED|   19|\n",
      "|          2|   KO|   19|\n",
      "|          2|  NAV|   19|\n",
      "|          2|  DIS|   19|\n",
      "|          2|   PG|   19|\n",
      "|          2|  CAT|   19|\n",
      "|          2|  JNJ|   19|\n",
      "|          2|   MO|   19|\n",
      "|          2|   AA|   19|\n",
      "|          2|  IBM|   19|\n",
      "|          3|  DIS|   22|\n",
      "|          3|   ED|   22|\n",
      "|          3|   BA|   22|\n",
      "|          3|  DTE|   22|\n",
      "|          3|   KO|   22|\n",
      "|          3|  IBM|   22|\n",
      "|          3|   PG|   22|\n",
      "|          3|   GE|   22|\n",
      "|          3|  CVX|   22|\n",
      "|          3|  XOM|   22|\n",
      "|          3|   AA|   22|\n",
      "|          3|  NAV|   22|\n",
      "|          3|   MO|   22|\n",
      "|          3|   IP|   22|\n",
      "|          3|   FL|   22|\n",
      "|          3|   GT|   22|\n",
      "|          3| ARNC|   22|\n",
      "|          3|  HPQ|   22|\n",
      "|          3|  JNJ|   22|\n",
      "|          4|  JNJ|   20|\n",
      "|          4|  CVX|   20|\n",
      "|          4|   IP|   20|\n",
      "|          4|   GT|   20|\n",
      "|          4|  IBM|   20|\n",
      "|          4|   ED|   20|\n",
      "|          4|  HPQ|   20|\n",
      "|          4|  XOM|   20|\n",
      "|          4|   MO|   20|\n",
      "|          4|   FL|   20|\n",
      "|          4|  NAV|   20|\n",
      "|          4|   GE|   20|\n",
      "|          4| ARNC|   20|\n",
      "|          4|  DIS|   20|\n",
      "|          4|   KO|   20|\n",
      "|          4|   BA|   20|\n",
      "|          4|  DTE|   20|\n",
      "|          4|   PG|   20|\n",
      "|          4|   AA|   20|\n",
      "|          4|  CAT|   20|\n",
      "|          5|  CVX|   22|\n",
      "|          5|  IBM|   22|\n",
      "|          5|   IP|   22|\n",
      "|          5|  CAT|   22|\n",
      "|          5|   ED|   22|\n",
      "|          5|   AA|   22|\n",
      "|          5|  NAV|   22|\n",
      "|          5|   FL|   22|\n",
      "|          5| ARNC|   22|\n",
      "|          5|  HPQ|   22|\n",
      "|          5|   MO|   22|\n",
      "|          5|  DIS|   22|\n",
      "|          5|   GT|   22|\n",
      "|          5|   KO|   22|\n",
      "|          5|  XOM|   22|\n",
      "|          5|   GE|   22|\n",
      "|          5|   PG|   22|\n",
      "|          5|  JNJ|   22|\n",
      "|          5|  DTE|   22|\n",
      "|          5|   BA|   22|\n",
      "|          6|  CAT|   21|\n",
      "|          6| ARNC|   21|\n",
      "|          6|   MO|   21|\n",
      "|          6|   AA|   21|\n",
      "|          6|  IBM|   21|\n",
      "|          6|  HPQ|   21|\n",
      "|          6|  DTE|   21|\n",
      "|          6|   PG|   21|\n",
      "|          6|   ED|   21|\n",
      "|          6|  DIS|   21|\n",
      "|          6|  CVX|   21|\n",
      "|          6|   BA|   21|\n",
      "|          6|  XOM|   21|\n",
      "|          6|   IP|   21|\n",
      "|          6|  NAV|   21|\n",
      "|          6|   GT|   21|\n",
      "|          6|  JNJ|   21|\n",
      "|          6|   KO|   21|\n",
      "|          6|   GE|   21|\n",
      "|          7|   ED|   21|\n",
      "|          7|   PG|   21|\n",
      "|          7|   KO|   21|\n",
      "|          7|   IP|   21|\n",
      "|          7|   GT|   21|\n",
      "|          7|   FL|   21|\n",
      "|          7|   MO|   21|\n",
      "|          7|  DIS|   21|\n",
      "|          7|  XOM|   21|\n",
      "|          7| ARNC|   21|\n",
      "|          7|  DTE|   21|\n",
      "|          7|  NAV|   21|\n",
      "|          7|  CAT|   21|\n",
      "|          7|   BA|   21|\n",
      "|          7|  IBM|   21|\n",
      "|          7|   GE|   21|\n",
      "|          7|   AA|   21|\n",
      "|          7|  CVX|   21|\n",
      "|          7|  HPQ|   21|\n",
      "|          8|  XOM|   23|\n",
      "|          8|  JNJ|   23|\n",
      "|          8|   GT|   23|\n",
      "|          8|  HPQ|   23|\n",
      "|          8|  NAV|   23|\n",
      "|          8|  DIS|   23|\n",
      "|          8|   AA|   23|\n",
      "|          8|  CVX|   23|\n",
      "|          8|   MO|   23|\n",
      "|          8|  DTE|   23|\n",
      "|          8|   PG|   23|\n",
      "|          8|   GE|   23|\n",
      "|          8|  IBM|   23|\n",
      "|          8|  CAT|   23|\n",
      "|          8|   FL|   23|\n",
      "|          8|   BA|   23|\n",
      "|          8|   KO|   23|\n",
      "|          8|   IP|   23|\n",
      "|          8|   ED|   23|\n",
      "|          8| ARNC|   23|\n",
      "|          9|   KO|   19|\n",
      "|          9|  XOM|   19|\n",
      "|          9|   PG|   19|\n",
      "|          9|  IBM|   19|\n",
      "|          9|  JNJ|   19|\n",
      "|          9|   MO|   19|\n",
      "|          9|   GE|   19|\n",
      "|          9|  DIS|   19|\n",
      "|          9|  CAT|   19|\n",
      "|          9|   ED|   38|\n",
      "|          9|   AA|   19|\n",
      "|          9|   BA|   19|\n",
      "|          9|  HPQ|   19|\n",
      "|          9|   IP|   19|\n",
      "|          9|  NAV|   19|\n",
      "|          9| ARNC|   19|\n",
      "|          9|  DTE|   19|\n",
      "|          9|  CVX|   19|\n",
      "|          9|   GT|   19|\n",
      "|          9|   FL|   19|\n",
      "|         10|   AA|   23|\n",
      "|         10|   GT|   23|\n",
      "|         10|  HPQ|   23|\n",
      "|         10|   IP|   23|\n",
      "|         10|   KO|   23|\n",
      "|         10|  CVX|   23|\n",
      "|         10|   FL|   23|\n",
      "|         10|  DIS|   23|\n",
      "|         10| ARNC|   23|\n",
      "|         10|   ED|   23|\n",
      "|         10|  DTE|   23|\n",
      "|         10|   BA|   23|\n",
      "|         10|  CAT|   23|\n",
      "|         10|  IBM|   23|\n",
      "|         10|   MO|   23|\n",
      "|         10|   PG|   23|\n",
      "|         10|  XOM|   23|\n",
      "|         10|  JNJ|   23|\n",
      "|         10|  NAV|   23|\n",
      "|         10|   GE|   23|\n",
      "|         11|   FL|   20|\n",
      "|         11|  IBM|   20|\n",
      "|         11|   AA|   20|\n",
      "|         11|  JNJ|   20|\n",
      "|         11|  CAT|   20|\n",
      "|         11|   BA|   20|\n",
      "|         11|  HPQ|   20|\n",
      "|         11|  DTE|   20|\n",
      "|         11|  CVX|   20|\n",
      "|         11|   GT|   20|\n",
      "|         11|   ED|   20|\n",
      "|         11| ARNC|   20|\n",
      "|         11|   GE|   20|\n",
      "|         11|  NAV|   20|\n",
      "|         11|   KO|   20|\n",
      "|         11|  XOM|   20|\n",
      "|         11|   PG|   20|\n",
      "|         11|   MO|   20|\n",
      "|         11|  DIS|   20|\n",
      "|         11|   IP|   20|\n",
      "|         12|   FL|   20|\n",
      "|         12|   GT|   20|\n",
      "|         12|  CVX|   20|\n",
      "|         12|   ED|   20|\n",
      "|         12|  IBM|   20|\n",
      "|         12|   KO|   20|\n",
      "|         12|  CAT|   20|\n",
      "|         12|   PG|   20|\n",
      "|         12|   GE|   20|\n",
      "|         12|  JNJ|   20|\n",
      "|         12|  DIS|   20|\n",
      "|         12|  XOM|   20|\n",
      "|         12|   MO|   20|\n",
      "|         12|   BA|   10|\n",
      "|         12|   AA|   20|\n",
      "|         12|  DTE|   20|\n",
      "|         12|  HPQ|   20|\n",
      "|         12| ARNC|   20|\n",
      "|         12|   IP|   20|\n",
      "+-----------+-----+-----+\n",
      "\n"
     ]
    }
   ],
   "source": [
    "#TODO: Write your code here \n",
    "df.groupby(F.month('date'),'stock').count().orderBy('month(date)').show(400) "
   ]
  },
  {
   "cell_type": "markdown",
   "metadata": {},
   "source": [
    "## Uniqueness\n",
    "\n",
    "Uniqueness requires that nothing will be recorded more than once based upon how that thing is identified. It is the inverse of an assessment of the level of duplication.\n",
    "\n",
    "Each entry within the dataset should only relate to a single event that has occurred and thus should not be duplicated. This is largely mediated by having the appropriate primary key, which means sticking to the requirements of a good primary key. All fields in the tables should be non-transitively dependent on the primary key.\n",
    "\n",
    "As such, deduplication of the dataset may be required. \n",
    "\n",
    "- **Measured by**: Analysis of the number of things assessed in the “real world” compared to the number of records of things in the dataset. This requires a reference dataset which is the ground truth;\n",
    "- **Units**: Percentage;\n",
    "- **Related to**: Consistency."
   ]
  },
  {
   "cell_type": "markdown",
   "metadata": {},
   "source": [
    "### Duplication Test\n",
    "For time-series data, it is important to check for duplications, as we typically expect all values to be unique within the dataset.\n",
    "\n",
    "The first thing to check will be if the primary key values within the dataset are unique - in our case, that will be a combination of the stock name and the date.\n",
    "\n",
    "Secondly, we want to check if the entries are all unique, which is done by checking for duplicates across that whole dataset."
   ]
  },
  {
   "cell_type": "markdown",
   "metadata": {},
   "source": [
    "> ℹ️ **Instructions** ℹ️\n",
    ">\n",
    "> Write code to determine if there are any duplicates within the data, and then proceed to correct this by dropping them from the dataframe.\n",
    ">\n",
    ">*You may use as many coding cells as necessary.*"
   ]
  },
  {
   "cell_type": "code",
   "execution_count": 54,
   "metadata": {},
   "outputs": [
    {
     "name": "stdout",
     "output_type": "stream",
     "text": [
      "+-------------------+-----+-----+\n",
      "|               date|stock|count|\n",
      "+-------------------+-----+-----+\n",
      "|1962-02-01 00:00:00|  HPQ|    4|\n",
      "|1962-02-08 00:00:00|  HPQ|    4|\n",
      "|1962-02-07 00:00:00|  HPQ|    4|\n",
      "|1962-02-26 00:00:00|  HPQ|    4|\n",
      "|1962-02-02 00:00:00|  HPQ|    4|\n",
      "|1962-02-14 00:00:00|  HPQ|    4|\n",
      "|1962-02-15 00:00:00|  HPQ|    4|\n",
      "|1962-02-23 00:00:00|  HPQ|    4|\n",
      "|1962-02-21 00:00:00|  HPQ|    4|\n",
      "|1962-02-06 00:00:00|  HPQ|    4|\n",
      "+-------------------+-----+-----+\n",
      "only showing top 10 rows\n",
      "\n"
     ]
    }
   ],
   "source": [
    "#TODO: Write your code here \n",
    "df.groupby(['date', 'stock']) \\\n",
    "  .count() \\\n",
    "  .where('count > 1') \\\n",
    "  .sort('count', ascending=False) \\\n",
    "  .show(10) "
   ]
  },
  {
   "cell_type": "code",
   "execution_count": 55,
   "metadata": {},
   "outputs": [
    {
     "name": "stdout",
     "output_type": "stream",
     "text": [
      "+----+-----+-----+\n",
      "|date|stock|count|\n",
      "+----+-----+-----+\n",
      "+----+-----+-----+\n",
      "\n"
     ]
    }
   ],
   "source": [
    "# Dropping the duplicates\n",
    "df = df.dropDuplicates(['date', 'stock']) \n",
    "\n",
    "# Confirming if duplicates were dropped\n",
    "df.groupby(['date', 'stock']) \\\n",
    "  .count() \\\n",
    "  .where('count > 1') \\\n",
    "  .sort('count', ascending=False) \\\n",
    "  .show(10) "
   ]
  },
  {
   "cell_type": "markdown",
   "metadata": {},
   "source": [
    "## Validity\n",
    "Data is valid if it conforms to the syntax (format, type, range) of its definition.\n",
    "\n",
    "Certain values within a field may have specific criteria required to make it valid, e.g., numerical columns cannot contain alphabetical characters, which can occur due to scientific notation.\n",
    "\n",
    "This can be more difficult to determine in stings, in which case you may have to check using regex. \n",
    "\n",
    "- **Measured by**: Comparison between the data and metadata or documentation for the data item;\n",
    "- **Units**: Percentage of data items deemed Valid or Invalid;\n",
    "- **Related to**: Accuracy, Completeness, Consistency, and Uniqueness."
   ]
  },
  {
   "cell_type": "markdown",
   "metadata": {},
   "source": [
    "We need to first define what we expect from our dataset:\n",
    "\n",
    "- stock: string (nullable = true) => Should be contained in the list of expected tickers\n",
    "- date: date (nullable = true) => Should conform to date format, and be in the past\n",
    "- open: double (nullable = true) => Should be positive or 0\n",
    "- high: double (nullable = true) => Should be positive or 0\n",
    "- low: double (nullable = true) => Should be positive or 0 (should be < high)\n",
    "- close: double (nullable = true) => Should be positive or 0 (should be <= high )\n",
    "- adj_close: double (nullable = true) => Should be positive or 0\n",
    "- volume: integer (nullable = true) => Should be positive or 0\n",
    "- high_avg: double (nullable = true) => Derived (not needed to test)\n",
    "- high_imp: double (nullable = true) => Derived (not needed to test)\n",
    "- day_of_week: string (nullable = true) => Derived (not needed to test)\n",
    "\n",
    "*Is there any other logic that we can incorporate?*"
   ]
  },
  {
   "cell_type": "markdown",
   "metadata": {},
   "source": [
    "> ℹ️ **Instructions** ℹ️\n",
    ">\n",
    "> Use the metadata to check if all the stocks in your current dataframe are valid. In other words, make sure you have no foreign/unknown tickers in your dataframe.\n",
    ">\n",
    ">*You may use as many coding cells as necessary.*\n"
   ]
  },
  {
   "cell_type": "code",
   "execution_count": 57,
   "metadata": {},
   "outputs": [
    {
     "data": {
      "text/plain": [
       "[]"
      ]
     },
     "execution_count": 57,
     "metadata": {},
     "output_type": "execute_result"
    }
   ],
   "source": [
    "#TODO: Write your code here \n",
    "list(set(df.select('stock').rdd.flatMap(lambda x: x).collect())-set(meta.select('symbol').rdd.flatMap(lambda x: x).collect())) "
   ]
  },
  {
   "cell_type": "markdown",
   "metadata": {},
   "source": [
    "> ℹ️ **Instructions** ℹ️\n",
    ">\n",
    ">\n",
    ">Check if the date column contains only valid dates and all dates are in the past.\n",
    ">\n",
    ">*Valid dates should already be checked in the data reading step.*"
   ]
  },
  {
   "cell_type": "code",
   "execution_count": 58,
   "metadata": {},
   "outputs": [
    {
     "name": "stdout",
     "output_type": "stream",
     "text": [
      "+----+----+----+---+-----+---------+------+-----+\n",
      "|date|open|high|low|close|adj_close|volume|stock|\n",
      "+----+----+----+---+-----+---------+------+-----+\n",
      "+----+----+----+---+-----+---------+------+-----+\n",
      "\n"
     ]
    }
   ],
   "source": [
    "#TODO: Write your code here \n",
    "df.filter((F.col('date')).isNull()).show() "
   ]
  },
  {
   "cell_type": "code",
   "execution_count": 59,
   "metadata": {},
   "outputs": [
    {
     "name": "stdout",
     "output_type": "stream",
     "text": [
      "+-------------------+-------------------+\n",
      "|          min(date)|          max(date)|\n",
      "+-------------------+-------------------+\n",
      "|1962-01-02 00:00:00|1962-12-31 00:00:00|\n",
      "+-------------------+-------------------+\n",
      "\n"
     ]
    }
   ],
   "source": [
    "# Getting starting and end dates\n",
    "df.agg(F.min(\"date\"), F.max(\"date\")).show() "
   ]
  },
  {
   "cell_type": "code",
   "execution_count": 60,
   "metadata": {},
   "outputs": [
    {
     "data": {
      "text/plain": [
       "0"
      ]
     },
     "execution_count": 60,
     "metadata": {},
     "output_type": "execute_result"
    }
   ],
   "source": [
    "# Checking if the all dates are in the past\n",
    "import datetime as dt\n",
    "df.where(F.col('date')>dt.datetime.now()).count()"
   ]
  },
  {
   "cell_type": "markdown",
   "metadata": {},
   "source": [
    "> ℹ️ **Instructions** ℹ️\n",
    ">\n",
    ">Check that all of numerical columns are positive."
   ]
  },
  {
   "cell_type": "code",
   "execution_count": 61,
   "metadata": {},
   "outputs": [
    {
     "name": "stdout",
     "output_type": "stream",
     "text": [
      "checking for negative values in open\n",
      "+----+----+----+---+-----+---------+------+-----+\n",
      "|date|open|high|low|close|adj_close|volume|stock|\n",
      "+----+----+----+---+-----+---------+------+-----+\n",
      "+----+----+----+---+-----+---------+------+-----+\n",
      "\n",
      "checking for negative values in high\n",
      "+----+----+----+---+-----+---------+------+-----+\n",
      "|date|open|high|low|close|adj_close|volume|stock|\n",
      "+----+----+----+---+-----+---------+------+-----+\n",
      "+----+----+----+---+-----+---------+------+-----+\n",
      "\n",
      "checking for negative values in low\n",
      "+----+----+----+---+-----+---------+------+-----+\n",
      "|date|open|high|low|close|adj_close|volume|stock|\n",
      "+----+----+----+---+-----+---------+------+-----+\n",
      "+----+----+----+---+-----+---------+------+-----+\n",
      "\n",
      "checking for negative values in close\n",
      "+----+----+----+---+-----+---------+------+-----+\n",
      "|date|open|high|low|close|adj_close|volume|stock|\n",
      "+----+----+----+---+-----+---------+------+-----+\n",
      "+----+----+----+---+-----+---------+------+-----+\n",
      "\n",
      "checking for negative values in adj_close\n",
      "+----+----+----+---+-----+---------+------+-----+\n",
      "|date|open|high|low|close|adj_close|volume|stock|\n",
      "+----+----+----+---+-----+---------+------+-----+\n",
      "+----+----+----+---+-----+---------+------+-----+\n",
      "\n",
      "checking for negative values in volume\n",
      "+----+----+----+---+-----+---------+------+-----+\n",
      "|date|open|high|low|close|adj_close|volume|stock|\n",
      "+----+----+----+---+-----+---------+------+-----+\n",
      "+----+----+----+---+-----+---------+------+-----+\n",
      "\n"
     ]
    }
   ],
   "source": [
    "#TODO: Write your code here \n",
    "num_cols = ['open', 'high', 'low', 'close', 'adj_close', 'volume']\n",
    "for i in num_cols:\n",
    "    print(f'checking for negative values in {i}')\n",
    "    df.filter(F.col(i)<0).show() "
   ]
  },
  {
   "cell_type": "markdown",
   "metadata": {},
   "source": [
    "### Save Updates\n",
    "\n",
    "With our initial work of checking the various dimensions of the data quality completed, we can now save these results to a CSV file.  "
   ]
  },
  {
   "cell_type": "code",
   "execution_count": 63,
   "metadata": {},
   "outputs": [],
   "source": [
    "# Changing the timestap datatype to date type\n",
    "df = df.withColumn('date', F.to_date(F.col('date'))) "
   ]
  },
  {
   "cell_type": "code",
   "execution_count": 64,
   "metadata": {},
   "outputs": [],
   "source": [
    "pd_df = df.toPandas()"
   ]
  },
  {
   "cell_type": "code",
   "execution_count": 68,
   "metadata": {},
   "outputs": [],
   "source": [
    "pd_df.to_csv('./output/hakim_balogun_data_profiling.csv') "
   ]
  }
 ],
 "metadata": {
  "kernelspec": {
   "display_name": "Python 3.9.12 ('base')",
   "language": "python",
   "name": "python3"
  },
  "language_info": {
   "codemirror_mode": {
    "name": "ipython",
    "version": 3
   },
   "file_extension": ".py",
   "mimetype": "text/x-python",
   "name": "python",
   "nbconvert_exporter": "python",
   "pygments_lexer": "ipython3",
   "version": "3.9.12"
  },
  "vscode": {
   "interpreter": {
    "hash": "6f5583cf1d9466b5c27e75c89cc6b383bed5736d6b16c51c8074d8690011a952"
   }
  }
 },
 "nbformat": 4,
 "nbformat_minor": 2
}
